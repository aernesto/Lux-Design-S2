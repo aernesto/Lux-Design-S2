{
 "cells": [
  {
   "cell_type": "code",
   "execution_count": 1,
   "metadata": {
    "execution": {
     "iopub.execute_input": "2023-01-24T19:39:43.846990Z",
     "iopub.status.busy": "2023-01-24T19:39:43.846545Z",
     "iopub.status.idle": "2023-01-24T19:39:45.768603Z",
     "shell.execute_reply": "2023-01-24T19:39:45.767534Z",
     "shell.execute_reply.started": "2023-01-24T19:39:43.846946Z"
    }
   },
   "outputs": [],
   "source": [
    "from luxai_s2.env import LuxAI_S2\n",
    "from luxai_s2.map.board import Board\n",
    "from luxai_s2.state import State\n",
    "from luxai_s2.map_generator.generator import GameMap\n",
    "from collections import OrderedDict\n",
    "import matplotlib.pyplot as plt\n",
    "import numpy as np"
   ]
  },
  {
   "cell_type": "code",
   "execution_count": 2,
   "metadata": {},
   "outputs": [],
   "source": [
    "def reset_w_custom_board(environment, seed, custom_board):\n",
    "    environment.agents = environment.possible_agents[:]\n",
    "    environment.env_steps = 0\n",
    "    if seed is not None:\n",
    "        environment.seed_val = seed\n",
    "        environment.seed_rng = np.random.RandomState(seed=seed)\n",
    "    else:\n",
    "        environment.seed_val = np.random.randint(0, 2**32 - 1)\n",
    "        environment.seed_rng = np.random.RandomState(seed=environment.seed_val)\n",
    "    \n",
    "    environment.state: State = State(\n",
    "        seed_rng=environment.seed_rng,\n",
    "        seed=environment.seed_val,\n",
    "        env_cfg=environment.state.env_cfg,\n",
    "        env_steps=0,\n",
    "        board=custom_board,\n",
    "    )\n",
    "        \n",
    "    environment.max_episode_length = environment.env_cfg.max_episode_length\n",
    "    for agent in environment.possible_agents:\n",
    "        environment.state.units[agent] = OrderedDict()\n",
    "        environment.state.factories[agent] = OrderedDict()\n",
    "        if environment.collect_stats:\n",
    "            environment.state.stats[agent] = create_empty_stats()\n",
    "    obs = environment.state.get_obs()\n",
    "    observations = {agent: obs for agent in environment.agents}\n",
    "    return observations, environment"
   ]
  },
  {
   "cell_type": "code",
   "execution_count": 3,
   "metadata": {
    "execution": {
     "iopub.execute_input": "2023-01-24T19:39:46.052351Z",
     "iopub.status.busy": "2023-01-24T19:39:46.051205Z",
     "iopub.status.idle": "2023-01-24T19:39:46.068702Z",
     "shell.execute_reply": "2023-01-24T19:39:46.067580Z",
     "shell.execute_reply.started": "2023-01-24T19:39:46.052316Z"
    }
   },
   "outputs": [],
   "source": [
    "# key-values of dict below should match attributes present in this class\n",
    "# https://github.com/aernesto/Lux-Design-S2/blob/adrian/luxai_s2/luxai_s2/config.py#L34\n",
    "environment_config = dict(\n",
    "        max_episode_length=350,  # how many total turns in game\n",
    "        CYCLE_LENGTH=50,\n",
    "        DAY_LENGTH=50,  # so no night\n",
    "        MAX_RUBBLE=0,  # disable rubble   \n",
    "    )\n",
    "env = LuxAI_S2(**environment_config)\n",
    "custom_rubble = np.zeros((env.env_cfg.map_size,) * 2, dtype=np.int64)\n",
    "\n",
    "# Let's put a single ice at 30,30\n",
    "custom_ice = np.zeros_like(custom_rubble)\n",
    "custom_ice[30, 30] = 1\n",
    "\n",
    "# Let's put a single ore at 40, 40\n",
    "custom_ore = np.zeros_like(custom_rubble)\n",
    "custom_ore[40, 40] = 1\n",
    "\n",
    "custom_symmetry = None\n",
    "custom_map_ = GameMap(custom_rubble, custom_ice, custom_ore, custom_symmetry)\n",
    "\n",
    "simple_board = Board(\n",
    "    seed=env.seed_rng.randint(0, 2**32 - 1, dtype=np.int64), \n",
    "    env_cfg=env.env_cfg,\n",
    "    existing_map=custom_map_\n",
    ")\n",
    "\n",
    "obs, env = reset_w_custom_board(env, seed=41, custom_board=simple_board)\n",
    "    \n",
    "# source code of reset() method: \n",
    "# https://github.com/aernesto/Lux-Design-S2/blob/adrian/luxai_s2/luxai_s2/env.py#L175\n",
    "# obs = env.reset(seed=41) # resets an environment with a seed"
   ]
  },
  {
   "cell_type": "code",
   "execution_count": 4,
   "metadata": {},
   "outputs": [],
   "source": [
    "import matplotlib\n",
    "matplotlib.rc('font', size=14)"
   ]
  },
  {
   "cell_type": "code",
   "execution_count": 5,
   "metadata": {
    "execution": {
     "iopub.execute_input": "2023-01-24T19:39:53.800713Z",
     "iopub.status.busy": "2023-01-24T19:39:53.800017Z",
     "iopub.status.idle": "2023-01-24T19:39:54.158812Z",
     "shell.execute_reply": "2023-01-24T19:39:54.157933Z",
     "shell.execute_reply.started": "2023-01-24T19:39:53.800678Z"
    }
   },
   "outputs": [
    {
     "data": {
      "image/png": "[encoded data removed]",
      "text/plain": [
       "<Figure size 700x700 with 1 Axes>"
      ]
     },
     "metadata": {},
     "output_type": "display_data"
    }
   ],
   "source": [
    "# visualize the environment so far with rgb_array to get a quick look at the map\n",
    "# dark orange - high rubble, light orange - low rubble\n",
    "# blue = ice, yellow = ore\n",
    "img = env.render(\"rgb_array\", width=640, height=640)\n",
    "f, ax = plt.subplots(figsize=(7, 7))\n",
    "ax.imshow(img);"
   ]
  },
  {
   "cell_type": "code",
   "execution_count": 6,
   "metadata": {
    "execution": {
     "iopub.execute_input": "2023-01-24T19:40:06.897335Z",
     "iopub.status.busy": "2023-01-24T19:40:06.896924Z",
     "iopub.status.idle": "2023-01-24T19:40:06.909031Z",
     "shell.execute_reply": "2023-01-24T19:40:06.907824Z",
     "shell.execute_reply.started": "2023-01-24T19:40:06.897303Z"
    }
   },
   "outputs": [],
   "source": [
    "from lux.kit import obs_to_game_state, GameState, EnvConfig\n",
    "from luxai_s2.utils import animate\n",
    "from lux.utils import direction_to, my_turn_to_place_factory\n",
    "class Agent():\n",
    "    def __init__(self, player: str, env_cfg: EnvConfig) -> None:\n",
    "        self.player = player\n",
    "        self.opp_player = \"player_1\" if self.player == \"player_0\" else \"player_0\"\n",
    "        np.random.seed(0)\n",
    "        self.env_cfg: EnvConfig = env_cfg\n",
    "\n",
    "    def early_setup(self, step: int, obs, remainingOverageTime: int = 60):\n",
    "        actions = dict()\n",
    "        # optionally convert observations to python objects with utility functions\n",
    "        game_state = obs_to_game_state(step, self.env_cfg, obs) \n",
    "        return actions\n",
    "\n",
    "    def act(self, step: int, obs, remainingOverageTime: int = 60):\n",
    "        actions = dict()\n",
    "        game_state = obs_to_game_state(step, self.env_cfg, obs)\n",
    "        return actions"
   ]
  },
  {
   "cell_type": "code",
   "execution_count": 7,
   "metadata": {
    "execution": {
     "iopub.execute_input": "2023-01-24T19:40:40.163980Z",
     "iopub.status.busy": "2023-01-24T19:40:40.163528Z",
     "iopub.status.idle": "2023-01-24T19:40:40.178043Z",
     "shell.execute_reply": "2023-01-24T19:40:40.176597Z",
     "shell.execute_reply.started": "2023-01-24T19:40:40.163946Z"
    }
   },
   "outputs": [],
   "source": [
    "def animate(imgs, _return=True):\n",
    "    # using cv2 to generate videos as moviepy doesn't work on kaggle notebooks\n",
    "    import cv2\n",
    "    import os\n",
    "    import string\n",
    "    import random\n",
    "    video_name = ''.join(random.choice(string.ascii_letters) for i in range(18))+'.webm'\n",
    "    height, width, layers = imgs[0].shape\n",
    "    fourcc = cv2.VideoWriter_fourcc(*'VP90')\n",
    "    video = cv2.VideoWriter(video_name, fourcc, 10, (width,height))\n",
    "\n",
    "    for img in imgs:\n",
    "        img = cv2.cvtColor(img, cv2.COLOR_BGR2RGB)\n",
    "        video.write(img)\n",
    "    video.release()\n",
    "    if _return:\n",
    "        from IPython.display import Video\n",
    "        return Video(video_name)\n",
    "def interact(env, agents, steps):\n",
    "    # reset our env\n",
    "    obs, env = reset_w_custom_board(env, seed=41, custom_board=simple_board)\n",
    "    np.random.seed(0)\n",
    "    imgs = []\n",
    "    step = 0\n",
    "    # Note that as the environment has two phases, we also keep track a value called \n",
    "    # `real_env_steps` in the environment state. The first phase ends once `real_env_steps` is 0 and used below\n",
    "\n",
    "    # iterate until phase 1 ends\n",
    "    while env.state.real_env_steps < 0:\n",
    "        if step >= steps: break\n",
    "        actions = {}\n",
    "        for player in env.agents:\n",
    "            o = obs[player]\n",
    "            a = agents[player].early_setup(step, o)\n",
    "            actions[player] = a\n",
    "        step += 1\n",
    "        obs, rewards, dones, infos = env.step(actions)\n",
    "        imgs += [env.render(\"rgb_array\", width=640, height=640)]\n",
    "    done = False\n",
    "    while not done:\n",
    "        if step >= steps: break\n",
    "        actions = {}\n",
    "        for player in env.agents:\n",
    "            o = obs[player]\n",
    "            a = agents[player].act(step, o)\n",
    "            actions[player] = a\n",
    "        step += 1\n",
    "        obs, rewards, dones, infos = env.step(actions)\n",
    "        imgs += [env.render(\"rgb_array\", width=640, height=640)]\n",
    "        done = dones[\"player_0\"] and dones[\"player_1\"]\n",
    "    return animate(imgs)"
   ]
  },
  {
   "cell_type": "code",
   "execution_count": 8,
   "metadata": {
    "execution": {
     "iopub.execute_input": "2023-01-24T19:43:03.880088Z",
     "iopub.status.busy": "2023-01-24T19:43:03.879639Z",
     "iopub.status.idle": "2023-01-24T19:43:03.890188Z",
     "shell.execute_reply": "2023-01-24T19:43:03.888785Z",
     "shell.execute_reply.started": "2023-01-24T19:43:03.880053Z"
    }
   },
   "outputs": [],
   "source": [
    "def early_setup(self, step: int, obs, remainingOverageTime: int = 60):\n",
    "    if step == 0:\n",
    "        # bid 0 to not waste resources bidding and declare as the default faction\n",
    "        # you can bid -n to prefer going second or n to prefer going first in placement\n",
    "        return dict(faction=\"AlphaStrike\", bid=0)\n",
    "    else:\n",
    "        game_state = obs_to_game_state(step, self.env_cfg, obs)\n",
    "        # factory placement period\n",
    "        \n",
    "        # how much water and metal you have in your starting pool to give to new factories\n",
    "        water_left = game_state.teams[self.player].water\n",
    "        metal_left = game_state.teams[self.player].metal\n",
    "        \n",
    "        # how many factories you have left to place\n",
    "        factories_to_place = game_state.teams[self.player].factories_to_place\n",
    "        # whether it is your turn to place a factory\n",
    "        my_turn_to_place = my_turn_to_place_factory(game_state.teams[self.player].place_first, step)\n",
    "        if factories_to_place > 0 and my_turn_to_place:\n",
    "            # we will spawn our factory in a random location with 150 metal and water if it is our turn to place\n",
    "            potential_spawns = np.array(list(zip(*np.where(obs[\"board\"][\"valid_spawns_mask\"] == 1))))\n",
    "            spawn_loc = potential_spawns[np.random.randint(0, len(potential_spawns))]\n",
    "            return dict(spawn=spawn_loc, metal=150, water=150)\n",
    "        return dict()\n",
    "Agent.early_setup = early_setup"
   ]
  },
  {
   "cell_type": "code",
   "execution_count": 9,
   "metadata": {
    "execution": {
     "iopub.execute_input": "2023-01-24T19:43:20.020710Z",
     "iopub.status.busy": "2023-01-24T19:43:20.020210Z",
     "iopub.status.idle": "2023-01-24T19:43:22.001899Z",
     "shell.execute_reply": "2023-01-24T19:43:22.000148Z",
     "shell.execute_reply.started": "2023-01-24T19:43:20.020674Z"
    }
   },
   "outputs": [
    {
     "name": "stderr",
     "output_type": "stream",
     "text": [
      "OpenCV: FFMPEG: tag 0x30395056/'VP90' is not supported with codec id 167 and format 'webm / WebM'\n"
     ]
    },
    {
     "data": {
      "text/html": [
       "<video src=\"ZlFzUmmPwCKBCfThIq.webm\" controls  >\n",
       "      Your browser does not support the <code>video</code> element.\n",
       "    </video>"
      ],
      "text/plain": [
       "<IPython.core.display.Video object>"
      ]
     },
     "execution_count": 9,
     "metadata": {},
     "output_type": "execute_result"
    }
   ],
   "source": [
    "# recreate our agents and run\n",
    "agents = {player: Agent(player, env.state.env_cfg) for player in env.agents}\n",
    "interact(env, agents, 5)"
   ]
  },
  {
   "cell_type": "code",
   "execution_count": 10,
   "metadata": {
    "execution": {
     "iopub.execute_input": "2023-01-24T19:44:40.947100Z",
     "iopub.status.busy": "2023-01-24T19:44:40.946428Z",
     "iopub.status.idle": "2023-01-24T19:44:40.954802Z",
     "shell.execute_reply": "2023-01-24T19:44:40.953290Z",
     "shell.execute_reply.started": "2023-01-24T19:44:40.947044Z"
    }
   },
   "outputs": [],
   "source": [
    "from lux.kit import obs_to_game_state, GameState"
   ]
  },
  {
   "cell_type": "code",
   "execution_count": 11,
   "metadata": {
    "execution": {
     "iopub.execute_input": "2023-01-24T19:44:43.860828Z",
     "iopub.status.busy": "2023-01-24T19:44:43.860415Z",
     "iopub.status.idle": "2023-01-24T19:44:43.869445Z",
     "shell.execute_reply": "2023-01-24T19:44:43.867811Z",
     "shell.execute_reply.started": "2023-01-24T19:44:43.860796Z"
    }
   },
   "outputs": [],
   "source": [
    "def act(self, step: int, obs, remainingOverageTime: int = 60):\n",
    "    actions = dict()\n",
    "    game_state: GameState = obs_to_game_state(step, self.env_cfg, obs)\n",
    "    factories = game_state.factories[self.player]\n",
    "    for unit_id, factory in factories.items():\n",
    "        if factory.power >= self.env_cfg.ROBOTS[\"HEAVY\"].POWER_COST and \\\n",
    "        factory.cargo.metal >= self.env_cfg.ROBOTS[\"HEAVY\"].METAL_COST:\n",
    "            actions[unit_id] = factory.build_heavy()\n",
    "    return actions\n",
    "Agent.act = act"
   ]
  },
  {
   "cell_type": "code",
   "execution_count": 12,
   "metadata": {
    "execution": {
     "iopub.execute_input": "2023-01-24T19:44:47.928300Z",
     "iopub.status.busy": "2023-01-24T19:44:47.927887Z",
     "iopub.status.idle": "2023-01-24T19:44:52.501069Z",
     "shell.execute_reply": "2023-01-24T19:44:52.499615Z",
     "shell.execute_reply.started": "2023-01-24T19:44:47.928266Z"
    }
   },
   "outputs": [
    {
     "name": "stderr",
     "output_type": "stream",
     "text": [
      "OpenCV: FFMPEG: tag 0x30395056/'VP90' is not supported with codec id 167 and format 'webm / WebM'\n"
     ]
    },
    {
     "data": {
      "text/html": [
       "<video src=\"icvjSqNzuLYVvVavQY.webm\" controls  >\n",
       "      Your browser does not support the <code>video</code> element.\n",
       "    </video>"
      ],
      "text/plain": [
       "<IPython.core.display.Video object>"
      ]
     },
     "execution_count": 12,
     "metadata": {},
     "output_type": "execute_result"
    }
   ],
   "source": [
    "# recreate our agents and run\n",
    "agents = {player: Agent(player, env.state.env_cfg) for player in env.agents}\n",
    "interact(env, agents, 25)"
   ]
  },
  {
   "cell_type": "code",
   "execution_count": 13,
   "metadata": {
    "execution": {
     "iopub.execute_input": "2023-01-24T19:45:08.930205Z",
     "iopub.status.busy": "2023-01-24T19:45:08.929774Z",
     "iopub.status.idle": "2023-01-24T19:45:08.943356Z",
     "shell.execute_reply": "2023-01-24T19:45:08.941948Z",
     "shell.execute_reply.started": "2023-01-24T19:45:08.930170Z"
    }
   },
   "outputs": [],
   "source": [
    "from lux.utils import direction_to\n",
    "import sys\n",
    "def act(self, step: int, obs, remainingOverageTime: int = 60):\n",
    "    actions = dict()\n",
    "    game_state = obs_to_game_state(step, self.env_cfg, obs)\n",
    "    factories = game_state.factories[self.player]\n",
    "    for unit_id, factory in factories.items():\n",
    "        if factory.power >= self.env_cfg.ROBOTS[\"HEAVY\"].POWER_COST and \\\n",
    "        factory.cargo.metal >= self.env_cfg.ROBOTS[\"HEAVY\"].METAL_COST:\n",
    "            actions[unit_id] = factory.build_heavy()\n",
    "            \n",
    "    # iterate over our units and have them mine the closest ice tile\n",
    "    units = game_state.units[self.player]\n",
    "    ice_map = game_state.board.ice # flip the board as it stores by rows then columns\n",
    "    ice_tile_locations = np.argwhere(ice_map == 1) # numpy magic to get the position of every ice tile\n",
    "    for unit_id, unit in units.items():\n",
    "        # compute the distance to each ice tile from this unit and pick the closest\n",
    "        ice_tile_distances = np.mean((ice_tile_locations - unit.pos) ** 2, 1)\n",
    "        closest_ice_tile = ice_tile_locations[np.argmin(ice_tile_distances)]\n",
    "        \n",
    "        # if we have reached the ice tile, start mining if possible\n",
    "        if np.all(closest_ice_tile == unit.pos):\n",
    "            if unit.power >= unit.dig_cost(game_state) + unit.action_queue_cost(game_state):\n",
    "                actions[unit_id] = [unit.dig(repeat=0)]\n",
    "        else:\n",
    "            direction = direction_to(unit.pos, closest_ice_tile)\n",
    "            move_cost = unit.move_cost(game_state, direction)\n",
    "            # check move_cost is not None, meaning that direction is not off the map or blocked\n",
    "            # check if unit has enough power to move in addition to updating the action queue.\n",
    "            if move_cost is not None and unit.power >= move_cost + unit.action_queue_cost(game_state):\n",
    "                actions[unit_id] = [unit.move(direction, repeat=0)]\n",
    "        # since we are using the simple embedded visualizer, we will have to print out details about units\n",
    "        # importantly, note that we print with file=sys.stderr. Printing with anything will cause your agent to fail\n",
    "        if unit.cargo.ice > 50:\n",
    "            print(game_state.real_env_steps, unit, f\"has {unit.cargo.ice} ice\", file=sys.stderr)\n",
    "    return actions\n",
    "Agent.act = act"
   ]
  },
  {
   "cell_type": "code",
   "execution_count": 14,
   "metadata": {
    "execution": {
     "iopub.execute_input": "2023-01-24T19:45:13.579154Z",
     "iopub.status.busy": "2023-01-24T19:45:13.578713Z",
     "iopub.status.idle": "2023-01-24T19:45:20.806279Z",
     "shell.execute_reply": "2023-01-24T19:45:20.804924Z",
     "shell.execute_reply.started": "2023-01-24T19:45:13.579119Z"
    },
    "scrolled": true
   },
   "outputs": [
    {
     "name": "stdout",
     "output_type": "stream",
     "text": [
      "5: 2 Units: (unit_14, unit_9) collided at 31,31\n",
      "7: 1 Units: (unit_10) collided at 25,9 with \u001b[33m[0] unit_8 UnitType.HEAVY at (25, 9)\u001b[0m surviving with 360 power\n"
     ]
    },
    {
     "name": "stderr",
     "output_type": "stream",
     "text": [
      "18 [1] unit_12 HEAVY at [30 30] has 60 ice\n",
      "19 [1] unit_12 HEAVY at [30 30] has 60 ice\n",
      "20 [1] unit_12 HEAVY at [30 30] has 60 ice\n",
      "21 [1] unit_12 HEAVY at [30 30] has 80 ice\n",
      "22 [1] unit_12 HEAVY at [30 30] has 80 ice\n",
      "23 [1] unit_12 HEAVY at [30 30] has 80 ice\n",
      "24 [1] unit_12 HEAVY at [30 30] has 80 ice\n",
      "25 [1] unit_12 HEAVY at [30 30] has 80 ice\n",
      "26 [1] unit_12 HEAVY at [30 30] has 80 ice\n",
      "27 [1] unit_12 HEAVY at [30 30] has 80 ice\n",
      "28 [1] unit_12 HEAVY at [30 30] has 100 ice\n",
      "29 [1] unit_12 HEAVY at [30 30] has 100 ice\n",
      "30 [1] unit_12 HEAVY at [30 30] has 100 ice\n",
      "OpenCV: FFMPEG: tag 0x30395056/'VP90' is not supported with codec id 167 and format 'webm / WebM'\n"
     ]
    },
    {
     "data": {
      "text/html": [
       "<video src=\"skqrxrMlfxyIyqeQqU.webm\" controls  >\n",
       "      Your browser does not support the <code>video</code> element.\n",
       "    </video>"
      ],
      "text/plain": [
       "<IPython.core.display.Video object>"
      ]
     },
     "execution_count": 14,
     "metadata": {},
     "output_type": "execute_result"
    }
   ],
   "source": [
    "# recreate our agents and run\n",
    "agents = {player: Agent(player, env.state.env_cfg) for player in env.agents}\n",
    "interact(env, agents, steps=40)"
   ]
  },
  {
   "cell_type": "code",
   "execution_count": 15,
   "metadata": {
    "execution": {
     "iopub.execute_input": "2023-01-24T19:45:43.271329Z",
     "iopub.status.busy": "2023-01-24T19:45:43.269909Z",
     "iopub.status.idle": "2023-01-24T19:45:43.293813Z",
     "shell.execute_reply": "2023-01-24T19:45:43.292379Z",
     "shell.execute_reply.started": "2023-01-24T19:45:43.271269Z"
    }
   },
   "outputs": [],
   "source": [
    "def act(self, step: int, obs, remainingOverageTime: int = 60):\n",
    "    actions = dict()\n",
    "    game_state = obs_to_game_state(step, self.env_cfg, obs)\n",
    "    factories = game_state.factories[self.player]\n",
    "    factory_tiles, factory_units = [], []\n",
    "    for unit_id, factory in factories.items():\n",
    "        if factory.power >= self.env_cfg.ROBOTS[\"HEAVY\"].POWER_COST and \\\n",
    "        factory.cargo.metal >= self.env_cfg.ROBOTS[\"HEAVY\"].METAL_COST:\n",
    "            actions[unit_id] = factory.build_heavy()\n",
    "        factory_tiles += [factory.pos]\n",
    "        factory_units += [factory]\n",
    "    factory_tiles = np.array(factory_tiles)\n",
    "\n",
    "    units = game_state.units[self.player]\n",
    "    ice_map = game_state.board.ice\n",
    "    ice_tile_locations = np.argwhere(ice_map == 1)\n",
    "    for unit_id, unit in units.items():\n",
    "        \n",
    "        # track the closest factory\n",
    "        closest_factory = None\n",
    "        adjacent_to_factory = False\n",
    "        if len(factory_tiles) > 0:\n",
    "            factory_distances = np.mean((factory_tiles - unit.pos) ** 2, 1)\n",
    "            closest_factory_tile = factory_tiles[np.argmin(factory_distances)]\n",
    "            closest_factory = factory_units[np.argmin(factory_distances)]\n",
    "            adjacent_to_factory = np.mean((closest_factory_tile - unit.pos) ** 2) == 0\n",
    "        \n",
    "            # previous ice mining code\n",
    "            if unit.cargo.ice < 40:\n",
    "                ice_tile_distances = np.mean((ice_tile_locations - unit.pos) ** 2, 1)\n",
    "                closest_ice_tile = ice_tile_locations[np.argmin(ice_tile_distances)]\n",
    "                if np.all(closest_ice_tile == unit.pos):\n",
    "                    if unit.power >= unit.dig_cost(game_state) + unit.action_queue_cost(game_state):\n",
    "                        actions[unit_id] = [unit.dig(repeat=0)]\n",
    "                else:\n",
    "                    direction = direction_to(unit.pos, closest_ice_tile)\n",
    "                    move_cost = unit.move_cost(game_state, direction)\n",
    "                    if move_cost is not None and unit.power >= move_cost + unit.action_queue_cost(game_state):\n",
    "                        actions[unit_id] = [unit.move(direction, repeat=0)]\n",
    "            # else if we have enough ice, we go back to the factory and dump it.\n",
    "            elif unit.cargo.ice >= 40:\n",
    "                direction = direction_to(unit.pos, closest_factory_tile)\n",
    "                if adjacent_to_factory:\n",
    "                    if unit.power >= unit.action_queue_cost(game_state):\n",
    "                        actions[unit_id] = [unit.transfer(direction, 0, unit.cargo.ice, repeat=0)]\n",
    "                else:\n",
    "                    move_cost = unit.move_cost(game_state, direction)\n",
    "                    if move_cost is not None and unit.power >= move_cost + unit.action_queue_cost(game_state):\n",
    "                        actions[unit_id] = [unit.move(direction, repeat=0)]\n",
    "    return actions\n",
    "Agent.act = act"
   ]
  },
  {
   "cell_type": "code",
   "execution_count": 16,
   "metadata": {
    "execution": {
     "iopub.execute_input": "2023-01-24T19:46:04.547457Z",
     "iopub.status.busy": "2023-01-24T19:46:04.546378Z",
     "iopub.status.idle": "2023-01-24T19:46:37.196058Z",
     "shell.execute_reply": "2023-01-24T19:46:37.194690Z",
     "shell.execute_reply.started": "2023-01-24T19:46:04.547421Z"
    },
    "scrolled": false
   },
   "outputs": [
    {
     "name": "stdout",
     "output_type": "stream",
     "text": [
      "5: 1 Units: (unit_15) collided at 36,24 with \u001b[33m[0] unit_8 UnitType.HEAVY at (36, 24)\u001b[0m surviving with 400 power\n",
      "12: 1 Units: (unit_13) collided at 33,28 with \u001b[33m[0] unit_8 UnitType.HEAVY at (33, 28)\u001b[0m surviving with 260 power\n",
      "14: Invalid movement action for unit \u001b[33m[0] unit_10 UnitType.HEAVY at (17, 16)\u001b[0m - Tried to move to (17, 17) which is on an opponent factory\n",
      "15: Invalid movement action for unit \u001b[33m[0] unit_10 UnitType.HEAVY at (17, 16)\u001b[0m - Tried to move to (17, 17) which is on an opponent factory\n",
      "16: Invalid movement action for unit \u001b[33m[0] unit_10 UnitType.HEAVY at (17, 16)\u001b[0m - Tried to move to (17, 17) which is on an opponent factory\n",
      "16: 1 Units: (unit_11) collided at 28,32 with \u001b[33m[1] unit_12 UnitType.HEAVY at (28, 32)\u001b[0m surviving with 180 power\n",
      "17: Invalid movement action for unit \u001b[33m[0] unit_10 UnitType.HEAVY at (17, 16)\u001b[0m - Tried to move to (17, 17) which is on an opponent factory\n",
      "17: 1 Units: (unit_12) collided at 30,30 with \u001b[33m[0] unit_8 UnitType.HEAVY at (30, 30)\u001b[0m surviving with 160 power\n",
      "18: Invalid movement action for unit \u001b[33m[0] unit_10 UnitType.HEAVY at (17, 16)\u001b[0m - Tried to move to (17, 17) which is on an opponent factory\n",
      "19: Invalid movement action for unit \u001b[33m[0] unit_10 UnitType.HEAVY at (17, 16)\u001b[0m - Tried to move to (17, 17) which is on an opponent factory\n",
      "20: Invalid movement action for unit \u001b[33m[0] unit_10 UnitType.HEAVY at (17, 16)\u001b[0m - Tried to move to (17, 17) which is on an opponent factory\n",
      "20: 1 Units: (unit_13) collided at 16,16 with \u001b[33m[1] unit_14 UnitType.HEAVY at (16, 16)\u001b[0m surviving with 100 power\n"
     ]
    },
    {
     "ename": "KeyError",
     "evalue": "'unit_13'",
     "output_type": "error",
     "traceback": [
      "\u001b[0;31m---------------------------------------------------------------------------\u001b[0m",
      "\u001b[0;31mKeyError\u001b[0m                                  Traceback (most recent call last)",
      "Cell \u001b[0;32mIn[16], line 3\u001b[0m\n\u001b[1;32m      1\u001b[0m \u001b[38;5;66;03m# recreate our agents and run\u001b[39;00m\n\u001b[1;32m      2\u001b[0m agents \u001b[38;5;241m=\u001b[39m {player: Agent(player, env\u001b[38;5;241m.\u001b[39mstate\u001b[38;5;241m.\u001b[39menv_cfg) \u001b[38;5;28;01mfor\u001b[39;00m player \u001b[38;5;129;01min\u001b[39;00m env\u001b[38;5;241m.\u001b[39magents}\n\u001b[0;32m----> 3\u001b[0m \u001b[43minteract\u001b[49m\u001b[43m(\u001b[49m\u001b[43menv\u001b[49m\u001b[43m,\u001b[49m\u001b[43m \u001b[49m\u001b[43magents\u001b[49m\u001b[43m,\u001b[49m\u001b[43m \u001b[49m\u001b[38;5;241;43m300\u001b[39;49m\u001b[43m)\u001b[49m\n",
      "Cell \u001b[0;32mIn[7], line 48\u001b[0m, in \u001b[0;36minteract\u001b[0;34m(env, agents, steps)\u001b[0m\n\u001b[1;32m     46\u001b[0m     actions[player] \u001b[38;5;241m=\u001b[39m a\n\u001b[1;32m     47\u001b[0m step \u001b[38;5;241m+\u001b[39m\u001b[38;5;241m=\u001b[39m \u001b[38;5;241m1\u001b[39m\n\u001b[0;32m---> 48\u001b[0m obs, rewards, dones, infos \u001b[38;5;241m=\u001b[39m \u001b[43menv\u001b[49m\u001b[38;5;241;43m.\u001b[39;49m\u001b[43mstep\u001b[49m\u001b[43m(\u001b[49m\u001b[43mactions\u001b[49m\u001b[43m)\u001b[49m\n\u001b[1;32m     49\u001b[0m imgs \u001b[38;5;241m+\u001b[39m\u001b[38;5;241m=\u001b[39m [env\u001b[38;5;241m.\u001b[39mrender(\u001b[38;5;124m\"\u001b[39m\u001b[38;5;124mrgb_array\u001b[39m\u001b[38;5;124m\"\u001b[39m, width\u001b[38;5;241m=\u001b[39m\u001b[38;5;241m640\u001b[39m, height\u001b[38;5;241m=\u001b[39m\u001b[38;5;241m640\u001b[39m)]\n\u001b[1;32m     50\u001b[0m done \u001b[38;5;241m=\u001b[39m dones[\u001b[38;5;124m\"\u001b[39m\u001b[38;5;124mplayer_0\u001b[39m\u001b[38;5;124m\"\u001b[39m] \u001b[38;5;129;01mand\u001b[39;00m dones[\u001b[38;5;124m\"\u001b[39m\u001b[38;5;124mplayer_1\u001b[39m\u001b[38;5;124m\"\u001b[39m]\n",
      "File \u001b[0;32m~/miniconda3/envs/lux310/lib/python3.10/site-packages/luxai_s2/env.py:869\u001b[0m, in \u001b[0;36mLuxAI_S2.step\u001b[0;34m(self, actions)\u001b[0m\n\u001b[1;32m    867\u001b[0m \u001b[38;5;28mself\u001b[39m\u001b[38;5;241m.\u001b[39m_handle_self_destruct_actions(actions_by_type)\n\u001b[1;32m    868\u001b[0m \u001b[38;5;28mself\u001b[39m\u001b[38;5;241m.\u001b[39m_handle_factory_build_actions(actions_by_type)\n\u001b[0;32m--> 869\u001b[0m \u001b[38;5;28;43mself\u001b[39;49m\u001b[38;5;241;43m.\u001b[39;49m\u001b[43m_handle_movement_actions\u001b[49m\u001b[43m(\u001b[49m\u001b[43mactions_by_type\u001b[49m\u001b[43m)\u001b[49m\n\u001b[1;32m    870\u001b[0m \u001b[38;5;28mself\u001b[39m\u001b[38;5;241m.\u001b[39m_handle_recharge_actions(actions_by_type)\n\u001b[1;32m    872\u001b[0m \u001b[38;5;28;01mfor\u001b[39;00m agent \u001b[38;5;129;01min\u001b[39;00m \u001b[38;5;28mself\u001b[39m\u001b[38;5;241m.\u001b[39magents:\n",
      "File \u001b[0;32m~/miniconda3/envs/lux310/lib/python3.10/site-packages/luxai_s2/env.py:709\u001b[0m, in \u001b[0;36mLuxAI_S2._handle_movement_actions\u001b[0;34m(self, actions_by_type)\u001b[0m\n\u001b[1;32m    706\u001b[0m \u001b[38;5;28mself\u001b[39m\u001b[38;5;241m.\u001b[39mstate\u001b[38;5;241m.\u001b[39mboard\u001b[38;5;241m.\u001b[39munits_map \u001b[38;5;241m=\u001b[39m new_units_map_after_collision\n\u001b[1;32m    708\u001b[0m \u001b[38;5;28;01mfor\u001b[39;00m u \u001b[38;5;129;01min\u001b[39;00m all_destroyed_units:\n\u001b[0;32m--> 709\u001b[0m     \u001b[38;5;28;43mself\u001b[39;49m\u001b[38;5;241;43m.\u001b[39;49m\u001b[43mdestroy_unit\u001b[49m\u001b[43m(\u001b[49m\u001b[43mu\u001b[49m\u001b[43m)\u001b[49m\n\u001b[1;32m    710\u001b[0m     \u001b[38;5;28;01mif\u001b[39;00m \u001b[38;5;28mself\u001b[39m\u001b[38;5;241m.\u001b[39mcollect_stats:\n\u001b[1;32m    711\u001b[0m         \u001b[38;5;28mself\u001b[39m\u001b[38;5;241m.\u001b[39mstate\u001b[38;5;241m.\u001b[39mstats[u\u001b[38;5;241m.\u001b[39mteam\u001b[38;5;241m.\u001b[39magent][\u001b[38;5;124m\"\u001b[39m\u001b[38;5;124mdestroyed\u001b[39m\u001b[38;5;124m\"\u001b[39m][u\u001b[38;5;241m.\u001b[39munit_type\u001b[38;5;241m.\u001b[39mname] \u001b[38;5;241m+\u001b[39m\u001b[38;5;241m=\u001b[39m \u001b[38;5;241m1\u001b[39m\n",
      "File \u001b[0;32m~/miniconda3/envs/lux310/lib/python3.10/site-packages/luxai_s2/env.py:1073\u001b[0m, in \u001b[0;36mLuxAI_S2.destroy_unit\u001b[0;34m(self, unit)\u001b[0m\n\u001b[1;32m   1071\u001b[0m \u001b[38;5;28mself\u001b[39m\u001b[38;5;241m.\u001b[39mstate\u001b[38;5;241m.\u001b[39mboard\u001b[38;5;241m.\u001b[39mlichen[unit\u001b[38;5;241m.\u001b[39mpos\u001b[38;5;241m.\u001b[39mx, unit\u001b[38;5;241m.\u001b[39mpos\u001b[38;5;241m.\u001b[39my] \u001b[38;5;241m=\u001b[39m \u001b[38;5;241m0\u001b[39m\n\u001b[1;32m   1072\u001b[0m \u001b[38;5;28mself\u001b[39m\u001b[38;5;241m.\u001b[39mstate\u001b[38;5;241m.\u001b[39mboard\u001b[38;5;241m.\u001b[39mlichen_strains[unit\u001b[38;5;241m.\u001b[39mpos\u001b[38;5;241m.\u001b[39mx, unit\u001b[38;5;241m.\u001b[39mpos\u001b[38;5;241m.\u001b[39my] \u001b[38;5;241m=\u001b[39m \u001b[38;5;241m-\u001b[39m\u001b[38;5;241m1\u001b[39m\n\u001b[0;32m-> 1073\u001b[0m \u001b[38;5;28;01mdel\u001b[39;00m \u001b[38;5;28mself\u001b[39m\u001b[38;5;241m.\u001b[39mstate\u001b[38;5;241m.\u001b[39munits[unit\u001b[38;5;241m.\u001b[39mteam\u001b[38;5;241m.\u001b[39magent][unit\u001b[38;5;241m.\u001b[39munit_id]\n",
      "\u001b[0;31mKeyError\u001b[0m: 'unit_13'"
     ]
    }
   ],
   "source": [
    "# recreate our agents and run\n",
    "agents = {player: Agent(player, env.state.env_cfg) for player in env.agents}\n",
    "interact(env, agents, 300)"
   ]
  },
  {
   "cell_type": "code",
   "execution_count": null,
   "metadata": {
    "execution": {
     "iopub.execute_input": "2023-01-24T19:47:42.499658Z",
     "iopub.status.busy": "2023-01-24T19:47:42.499176Z",
     "iopub.status.idle": "2023-01-24T19:47:42.510391Z",
     "shell.execute_reply": "2023-01-24T19:47:42.509468Z",
     "shell.execute_reply.started": "2023-01-24T19:47:42.499624Z"
    }
   },
   "outputs": [],
   "source": [
    "# %%writefile agent.py\n",
    "from lux.kit import obs_to_game_state, GameState, EnvConfig\n",
    "from lux.utils import direction_to, my_turn_to_place_factory\n",
    "import numpy as np\n",
    "import sys\n",
    "class Agent():\n",
    "    def __init__(self, player: str, env_cfg: EnvConfig) -> None:\n",
    "        self.player = player\n",
    "        self.opp_player = \"player_1\" if self.player == \"player_0\" else \"player_0\"\n",
    "        np.random.seed(0)\n",
    "        self.env_cfg: EnvConfig = env_cfg\n",
    "\n",
    "    def early_setup(self, step: int, obs, remainingOverageTime: int = 60):\n",
    "        if step == 0:\n",
    "            # bid 0 to not waste resources bidding and declare as the default faction\n",
    "            return dict(faction=\"AlphaStrike\", bid=0)\n",
    "        else:\n",
    "            game_state = obs_to_game_state(step, self.env_cfg, obs)\n",
    "            # factory placement period\n",
    "\n",
    "            # how much water and metal you have in your starting pool to give to new factories\n",
    "            water_left = game_state.teams[self.player].water\n",
    "            metal_left = game_state.teams[self.player].metal\n",
    "\n",
    "            # how many factories you have left to place\n",
    "            factories_to_place = game_state.teams[self.player].factories_to_place\n",
    "            # whether it is your turn to place a factory\n",
    "            my_turn_to_place = my_turn_to_place_factory(game_state.teams[self.player].place_first, step)\n",
    "            if factories_to_place > 0 and my_turn_to_place:\n",
    "                # we will spawn our factory in a random location with 150 metal and water if it is our turn to place\n",
    "                potential_spawns = np.array(list(zip(*np.where(obs[\"board\"][\"valid_spawns_mask\"] == 1))))\n",
    "                spawn_loc = potential_spawns[np.random.randint(0, len(potential_spawns))]\n",
    "                return dict(spawn=spawn_loc, metal=150, water=150)\n",
    "            return dict()\n",
    "\n",
    "    def act(self, step: int, obs, remainingOverageTime: int = 60):\n",
    "        actions = dict()\n",
    "        game_state = obs_to_game_state(step, self.env_cfg, obs)\n",
    "        factories = game_state.factories[self.player]\n",
    "        game_state.teams[self.player].place_first\n",
    "        factory_tiles, factory_units = [], []\n",
    "        for unit_id, factory in factories.items():\n",
    "            if factory.power >= self.env_cfg.ROBOTS[\"HEAVY\"].POWER_COST and \\\n",
    "            factory.cargo.metal >= self.env_cfg.ROBOTS[\"HEAVY\"].METAL_COST:\n",
    "                actions[unit_id] = factory.build_heavy()\n",
    "            if self.env_cfg.max_episode_length - game_state.real_env_steps < 50:\n",
    "                if factory.water_cost(game_state) <= factory.cargo.water:\n",
    "                    actions[unit_id] = factory.water()\n",
    "            factory_tiles += [factory.pos]\n",
    "            factory_units += [factory]\n",
    "        factory_tiles = np.array(factory_tiles)\n",
    "\n",
    "        units = game_state.units[self.player]\n",
    "        ice_map = game_state.board.ice\n",
    "        ice_tile_locations = np.argwhere(ice_map == 1)\n",
    "        for unit_id, unit in units.items():\n",
    "\n",
    "            # track the closest factory\n",
    "            closest_factory = None\n",
    "            adjacent_to_factory = False\n",
    "            if len(factory_tiles) > 0:\n",
    "                factory_distances = np.mean((factory_tiles - unit.pos) ** 2, 1)\n",
    "                closest_factory_tile = factory_tiles[np.argmin(factory_distances)]\n",
    "                closest_factory = factory_units[np.argmin(factory_distances)]\n",
    "                adjacent_to_factory = np.mean((closest_factory_tile - unit.pos) ** 2) == 0\n",
    "\n",
    "                # previous ice mining code\n",
    "                if unit.cargo.ice < 40:\n",
    "                    ice_tile_distances = np.mean((ice_tile_locations - unit.pos) ** 2, 1)\n",
    "                    closest_ice_tile = ice_tile_locations[np.argmin(ice_tile_distances)]\n",
    "                    if np.all(closest_ice_tile == unit.pos):\n",
    "                        if unit.power >= unit.dig_cost(game_state) + unit.action_queue_cost(game_state):\n",
    "                            actions[unit_id] = [unit.dig(repeat=0)]\n",
    "                    else:\n",
    "                        direction = direction_to(unit.pos, closest_ice_tile)\n",
    "                        move_cost = unit.move_cost(game_state, direction)\n",
    "                        if move_cost is not None and unit.power >= move_cost + unit.action_queue_cost(game_state):\n",
    "                            actions[unit_id] = [unit.move(direction, repeat=0)]\n",
    "                # else if we have enough ice, we go back to the factory and dump it.\n",
    "                elif unit.cargo.ice >= 40:\n",
    "                    direction = direction_to(unit.pos, closest_factory_tile)\n",
    "                    if adjacent_to_factory:\n",
    "                        if unit.power >= unit.action_queue_cost(game_state):\n",
    "                            actions[unit_id] = [unit.transfer(direction, 0, unit.cargo.ice, repeat=0)]\n",
    "                    else:\n",
    "                        move_cost = unit.move_cost(game_state, direction)\n",
    "                        if move_cost is not None and unit.power >= move_cost + unit.action_queue_cost(game_state):\n",
    "                            actions[unit_id] = [unit.move(direction, repeat=0)]\n",
    "        return actions"
   ]
  }
 ],
 "metadata": {
  "kernelspec": {
   "display_name": "lux310",
   "language": "python",
   "name": "lux310"
  },
  "language_info": {
   "codemirror_mode": {
    "name": "ipython",
    "version": 3
   },
   "file_extension": ".py",
   "mimetype": "text/x-python",
   "name": "python",
   "nbconvert_exporter": "python",
   "pygments_lexer": "ipython3",
   "version": "3.10.9"
  },
  "vscode": {
   "interpreter": {
    "hash": "95c78092eaa97395644b547c35f355f36ca9b4a25bd2b7641e327063759a9b57"
   }
  }
 },
 "nbformat": 4,
 "nbformat_minor": 4
}
