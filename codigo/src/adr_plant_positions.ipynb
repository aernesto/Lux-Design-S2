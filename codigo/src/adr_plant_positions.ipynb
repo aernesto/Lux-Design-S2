{
 "cells": [
  {
   "cell_type": "code",
   "execution_count": 1,
   "metadata": {
    "execution": {
     "iopub.execute_input": "2023-01-24T19:39:43.846990Z",
     "iopub.status.busy": "2023-01-24T19:39:43.846545Z",
     "iopub.status.idle": "2023-01-24T19:39:45.768603Z",
     "shell.execute_reply": "2023-01-24T19:39:45.767534Z",
     "shell.execute_reply.started": "2023-01-24T19:39:43.846946Z"
    }
   },
   "outputs": [],
   "source": [
    "from luxai_s2.env import LuxAI_S2\n",
    "import matplotlib.pyplot as plt\n",
    "import matplotlib\n",
    "import logging\n",
    "import numpy as np\n",
    "from agents_experiments import (IdleAgent, ControlledAgent, interact)\n",
    "from pprint import pprint\n",
    "from time import perf_counter\n",
    "\n",
    "matplotlib.rc('font', size=14)\n",
    "logger = logging.getLogger()"
   ]
  },
  {
   "cell_type": "code",
   "execution_count": 2,
   "metadata": {
    "execution": {
     "iopub.execute_input": "2023-01-24T19:44:47.928300Z",
     "iopub.status.busy": "2023-01-24T19:44:47.927887Z",
     "iopub.status.idle": "2023-01-24T19:44:52.501069Z",
     "shell.execute_reply": "2023-01-24T19:44:52.499615Z",
     "shell.execute_reply.started": "2023-01-24T19:44:47.928266Z"
    },
    "scrolled": false
   },
   "outputs": [
    {
     "name": "stderr",
     "output_type": "stream",
     "text": [
      "INFO:root:iteration seed 0 took 6.614698856000359 seconds\n",
      "INFO:root:iteration seed 1 took 1.7592890189998798 seconds\n",
      "INFO:root:iteration seed 2 took 9.149855383000613 seconds\n",
      "INFO:root:iteration seed 3 took 6.603328266000062 seconds\n",
      "INFO:root:iteration seed 4 took 10.220287212000585 seconds\n",
      "INFO:root:iteration seed 5 took 3.6737444569998843 seconds\n",
      "INFO:root:iteration seed 6 took 1.6606054869998843 seconds\n",
      "INFO:root:iteration seed 7 took 9.240618894000363 seconds\n",
      "INFO:root:iteration seed 8 took 3.392222170000423 seconds\n",
      "INFO:root:iteration seed 9 took 4.565325413999744 seconds\n",
      "INFO:root:iteration seed 10 took 6.306219404999865 seconds\n",
      "INFO:root:iteration seed 11 took 1.826055823000388 seconds\n",
      "INFO:root:iteration seed 12 took 1.6257158569997046 seconds\n",
      "INFO:root:iteration seed 13 took 4.908914471000571 seconds\n",
      "INFO:root:iteration seed 14 took 9.791166384999997 seconds\n",
      "INFO:root:iteration seed 15 took 4.507206106999547 seconds\n",
      "INFO:root:iteration seed 16 took 1.5035118100004183 seconds\n",
      "INFO:root:iteration seed 17 took 3.7722702709997975 seconds\n",
      "INFO:root:iteration seed 18 took 1.4931543299999248 seconds\n",
      "INFO:root:iteration seed 19 took 6.61902294399988 seconds\n",
      "INFO:root:iteration seed 20 took 6.161972915000661 seconds\n",
      "INFO:root:iteration seed 21 took 8.634594237000783 seconds\n",
      "INFO:root:iteration seed 22 took 3.805252362999454 seconds\n",
      "INFO:root:iteration seed 23 took 8.09195387499949 seconds\n",
      "INFO:root:iteration seed 24 took 2.925083928999811 seconds\n",
      "INFO:root:iteration seed 25 took 3.4293253289997665 seconds\n",
      "INFO:root:iteration seed 26 took 3.7317444540003635 seconds\n",
      "INFO:root:iteration seed 27 took 1.9711021510001956 seconds\n",
      "INFO:root:iteration seed 28 took 5.757960631999595 seconds\n",
      "INFO:root:iteration seed 29 took 1.8442824949997885 seconds\n",
      "INFO:root:iteration seed 30 took 2.0405330650000906 seconds\n",
      "INFO:root:iteration seed 31 took 7.426902991999668 seconds\n",
      "INFO:root:iteration seed 32 took 3.2942460009999195 seconds\n"
     ]
    }
   ],
   "source": [
    "logger.setLevel(logging.INFO)\n",
    "NUM_SEEDS = 33\n",
    "assert NUM_SEEDS % 3 == 0, \"NUM_SEEDS should be even\"\n",
    "half = NUM_SEEDS // 3\n",
    "f, axes = plt.subplots(half, 3, figsize=(15, 5 * half))\n",
    "\n",
    "for seed, ax in enumerate(axes.ravel()):\n",
    "    tic = perf_counter()\n",
    "    env = LuxAI_S2()\n",
    "    obs = env.reset(seed=seed)\n",
    "\n",
    "    # filename = str(uuid.uuid4()) + '.mp4'\n",
    "    file_path = '/home/adrian_admin/prog/kaggle/lux-ai-2/Lux-Design-S2/data/experiments/adrian/'\n",
    "    animate_arg = ''  # file_path + filename\n",
    "\n",
    "    agents = {}\n",
    "    for player, agent_constructor in zip(env.agents, [ControlledAgent, ControlledAgent]):\n",
    "        logging.debug(player)\n",
    "        agents[player] = agent_constructor(player, env.state.env_cfg) \n",
    "\n",
    "    last_obs = interact(\n",
    "        env, \n",
    "        agents, \n",
    "        10, \n",
    "        animate_=animate_arg, \n",
    "        break_at_first_action=False, \n",
    "        debug=False, \n",
    "        custom_board=None,  #simple_board\n",
    "        seed=seed\n",
    "    )\n",
    "    \n",
    "    img = env.render(\"rgb_array\", width=640, height=640)\n",
    "    ax.imshow(img);\n",
    "    ax.axis('off');\n",
    "    ax.set_title('seed={}'.format(seed))\n",
    "    logging.info('iteration seed {} took {} seconds'.format(seed, perf_counter() - tic))\n",
    "f.savefig(file_path + 'ConnectedComps{}seeds_25Feb2023.png'.format(NUM_SEEDS))\n",
    "plt.close(f);"
   ]
  },
  {
   "cell_type": "code",
   "execution_count": null,
   "metadata": {},
   "outputs": [],
   "source": []
  }
 ],
 "metadata": {
  "kernelspec": {
   "display_name": "lux37",
   "language": "python",
   "name": "lux37"
  },
  "language_info": {
   "codemirror_mode": {
    "name": "ipython",
    "version": 3
   },
   "file_extension": ".py",
   "mimetype": "text/x-python",
   "name": "python",
   "nbconvert_exporter": "python",
   "pygments_lexer": "ipython3",
   "version": "3.7.16"
  },
  "vscode": {
   "interpreter": {
    "hash": "95c78092eaa97395644b547c35f355f36ca9b4a25bd2b7641e327063759a9b57"
   }
  }
 },
 "nbformat": 4,
 "nbformat_minor": 4
}
