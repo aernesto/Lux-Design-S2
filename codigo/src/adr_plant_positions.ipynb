{
 "cells": [
  {
   "cell_type": "code",
   "execution_count": null,
   "metadata": {
    "execution": {
     "iopub.execute_input": "2023-01-24T19:39:43.846990Z",
     "iopub.status.busy": "2023-01-24T19:39:43.846545Z",
     "iopub.status.idle": "2023-01-24T19:39:45.768603Z",
     "shell.execute_reply": "2023-01-24T19:39:45.767534Z",
     "shell.execute_reply.started": "2023-01-24T19:39:43.846946Z"
    }
   },
   "outputs": [],
   "source": [
    "from luxai_s2.env import LuxAI_S2\n",
    "# from luxai_s2.map.board import Board\n",
    "# from luxai_s2.map_generator.generator import GameMap\n",
    "import matplotlib.pyplot as plt\n",
    "import matplotlib\n",
    "import logging\n",
    "import numpy as np\n",
    "# from luxai_s2.utils import my_turn_to_place_factory\n",
    "from agents_experiments import (IdleAgent, ControlledAgent, interact)\n",
    "# from plots import plot_factory_stats, plot_robot_stats\n",
    "# import uuid\n",
    "# from IPython.display import Video\n",
    "from pprint import pprint\n",
    "# from robots import CartesianPoint\n",
    "# import pandas as pd\n",
    "# import seaborn as sns\n",
    "\n",
    "matplotlib.rc('font', size=14)\n",
    "logger = logging.getLogger()"
   ]
  },
  {
   "cell_type": "code",
   "execution_count": null,
   "metadata": {
    "execution": {
     "iopub.execute_input": "2023-01-24T19:44:47.928300Z",
     "iopub.status.busy": "2023-01-24T19:44:47.927887Z",
     "iopub.status.idle": "2023-01-24T19:44:52.501069Z",
     "shell.execute_reply": "2023-01-24T19:44:52.499615Z",
     "shell.execute_reply.started": "2023-01-24T19:44:47.928266Z"
    },
    "scrolled": false
   },
   "outputs": [],
   "source": [
    "logger.setLevel(logging.INFO)\n",
    "NUM_SEEDS = 33\n",
    "assert NUM_SEEDS % 3 == 0, \"NUM_SEEDS should be even\"\n",
    "half = NUM_SEEDS // 3\n",
    "f, axes = plt.subplots(half, 3, figsize=(15, 5 * half))\n",
    "for seed, ax in enumerate(axes.ravel()):\n",
    "    env = LuxAI_S2()\n",
    "    obs = env.reset(seed=seed)\n",
    "\n",
    "    # filename = str(uuid.uuid4()) + '.mp4'\n",
    "    file_path = '/home/adrian_admin/prog/kaggle/lux-ai-2/Lux-Design-S2/data/experiments/adrian/'\n",
    "    animate_arg = ''  # file_path + filename\n",
    "\n",
    "    agents = {}\n",
    "    for player, agent_constructor in zip(env.agents, [ControlledAgent, ControlledAgent]):\n",
    "        logging.debug(player)\n",
    "        agents[player] = agent_constructor(player, env.state.env_cfg) \n",
    "\n",
    "    last_obs = interact(\n",
    "        env, \n",
    "        agents, \n",
    "        10, \n",
    "        animate_=animate_arg, \n",
    "        break_at_first_action=False, \n",
    "        debug=False, \n",
    "        custom_board=None,  #simple_board\n",
    "        seed=seed\n",
    "    )\n",
    "    \n",
    "    img = env.render(\"rgb_array\", width=640, height=640)\n",
    "    ax.imshow(img);\n",
    "    ax.axis('off');\n",
    "    ax.set_title('seed={}'.format(seed))\n",
    "# print(last_obs)"
   ]
  },
  {
   "cell_type": "code",
   "execution_count": null,
   "metadata": {},
   "outputs": [],
   "source": []
  }
 ],
 "metadata": {
  "kernelspec": {
   "display_name": "lux37",
   "language": "python",
   "name": "lux37"
  },
  "language_info": {
   "codemirror_mode": {
    "name": "ipython",
    "version": 3
   },
   "file_extension": ".py",
   "mimetype": "text/x-python",
   "name": "python",
   "nbconvert_exporter": "python",
   "pygments_lexer": "ipython3",
   "version": "3.7.16"
  },
  "vscode": {
   "interpreter": {
    "hash": "95c78092eaa97395644b547c35f355f36ca9b4a25bd2b7641e327063759a9b57"
   }
  }
 },
 "nbformat": 4,
 "nbformat_minor": 4
}
