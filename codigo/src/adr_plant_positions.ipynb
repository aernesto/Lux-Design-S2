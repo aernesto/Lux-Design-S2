{
 "cells": [
  {
   "cell_type": "code",
   "execution_count": 1,
   "metadata": {
    "execution": {
     "iopub.execute_input": "2023-01-24T19:39:43.846990Z",
     "iopub.status.busy": "2023-01-24T19:39:43.846545Z",
     "iopub.status.idle": "2023-01-24T19:39:45.768603Z",
     "shell.execute_reply": "2023-01-24T19:39:45.767534Z",
     "shell.execute_reply.started": "2023-01-24T19:39:43.846946Z"
    }
   },
   "outputs": [],
   "source": [
    "from luxai_s2.env import LuxAI_S2\n",
    "import matplotlib.pyplot as plt\n",
    "import matplotlib\n",
    "import logging\n",
    "import numpy as np\n",
    "from agents_experiments import (IdleAgent, ControlledAgent, interact)\n",
    "from pprint import pprint\n",
    "from time import perf_counter\n",
    "\n",
    "matplotlib.rc('font', size=14)\n",
    "logger = logging.getLogger()"
   ]
  },
  {
   "cell_type": "code",
   "execution_count": 2,
   "metadata": {
    "execution": {
     "iopub.execute_input": "2023-01-24T19:44:47.928300Z",
     "iopub.status.busy": "2023-01-24T19:44:47.927887Z",
     "iopub.status.idle": "2023-01-24T19:44:52.501069Z",
     "shell.execute_reply": "2023-01-24T19:44:52.499615Z",
     "shell.execute_reply.started": "2023-01-24T19:44:47.928266Z"
    },
    "scrolled": false
   },
   "outputs": [
    {
     "name": "stderr",
     "output_type": "stream",
     "text": [
      "INFO:root:iteration seed 0 took 6.76211547299863 seconds\n",
      "INFO:root:iteration seed 1 took 1.8433359660011774 seconds\n",
      "INFO:root:iteration seed 2 took 9.114348880999387 seconds\n",
      "INFO:root:iteration seed 3 took 6.7196106360006524 seconds\n",
      "INFO:root:iteration seed 4 took 10.45020131199999 seconds\n",
      "INFO:root:iteration seed 5 took 3.560234667998884 seconds\n",
      "INFO:root:iteration seed 6 took 1.76285289399857 seconds\n",
      "INFO:root:iteration seed 7 took 9.349877452999863 seconds\n",
      "INFO:root:iteration seed 8 took 3.4273868639993452 seconds\n",
      "INFO:root:iteration seed 9 took 5.100174447001336 seconds\n",
      "INFO:root:iteration seed 10 took 6.443680479998875 seconds\n",
      "INFO:root:iteration seed 11 took 1.9591781759991136 seconds\n",
      "INFO:root:iteration seed 12 took 1.6984241029986151 seconds\n",
      "INFO:root:iteration seed 13 took 5.319921495000017 seconds\n",
      "INFO:root:iteration seed 14 took 10.266306471999997 seconds\n",
      "INFO:root:iteration seed 15 took 4.907702137999877 seconds\n",
      "INFO:root:iteration seed 16 took 1.6202345929996227 seconds\n",
      "INFO:root:iteration seed 17 took 3.737712090000059 seconds\n",
      "INFO:root:iteration seed 18 took 1.577624769999602 seconds\n",
      "INFO:root:iteration seed 19 took 6.763748687999396 seconds\n",
      "INFO:root:iteration seed 20 took 6.493471724999836 seconds\n",
      "INFO:root:iteration seed 21 took 8.71206171599988 seconds\n",
      "INFO:root:iteration seed 22 took 3.9118689150000137 seconds\n",
      "INFO:root:iteration seed 23 took 8.489273956000034 seconds\n",
      "INFO:root:iteration seed 24 took 3.0019575509995775 seconds\n",
      "INFO:root:iteration seed 25 took 3.388399195000602 seconds\n",
      "INFO:root:iteration seed 26 took 3.7379692519989476 seconds\n",
      "INFO:root:iteration seed 27 took 2.0516003359989554 seconds\n",
      "INFO:root:iteration seed 28 took 5.957217754999874 seconds\n",
      "INFO:root:iteration seed 29 took 2.0358590870000626 seconds\n",
      "INFO:root:iteration seed 30 took 2.0125390350003727 seconds\n",
      "INFO:root:iteration seed 31 took 7.7119127020014275 seconds\n",
      "INFO:root:iteration seed 32 took 3.2945166459994653 seconds\n"
     ]
    }
   ],
   "source": [
    "logger.setLevel(logging.INFO)\n",
    "NUM_SEEDS = 33\n",
    "assert NUM_SEEDS % 3 == 0, \"NUM_SEEDS should be even\"\n",
    "half = NUM_SEEDS // 3\n",
    "f, axes = plt.subplots(half, 3, figsize=(15, 5 * half))\n",
    "\n",
    "for seed, ax in enumerate(axes.ravel()):\n",
    "    tic = perf_counter()\n",
    "    env = LuxAI_S2()\n",
    "    obs = env.reset(seed=seed)\n",
    "\n",
    "    # filename = str(uuid.uuid4()) + '.mp4'\n",
    "    file_path = '/home/adrian_admin/prog/kaggle/lux-ai-2/Lux-Design-S2/data/experiments/adrian/images/'\n",
    "    animate_arg = ''  # file_path + filename\n",
    "\n",
    "    agents = {}\n",
    "    for player, agent_constructor in zip(env.agents, [ControlledAgent, ControlledAgent]):\n",
    "        logging.debug(player)\n",
    "        agents[player] = agent_constructor(player, env.state.env_cfg) \n",
    "\n",
    "    last_obs = interact(\n",
    "        env, \n",
    "        agents, \n",
    "        10, \n",
    "        animate_=animate_arg, \n",
    "        break_at_first_action=False, \n",
    "        debug=False, \n",
    "        custom_board=None,  #simple_board\n",
    "        seed=seed\n",
    "    )\n",
    "    \n",
    "    img = env.render(\"rgb_array\", width=640, height=640)\n",
    "    ax.imshow(img);\n",
    "    ax.axis('off');\n",
    "    ax.set_title('seed={}'.format(seed))\n",
    "    logging.info('iteration seed {} took {} seconds'.format(seed, perf_counter() - tic))\n",
    "f.savefig(file_path + 'ConnectedComps3{}seeds_25Feb2023.png'.format(NUM_SEEDS))\n",
    "plt.close(f);"
   ]
  },
  {
   "cell_type": "code",
   "execution_count": null,
   "metadata": {},
   "outputs": [],
   "source": []
  }
 ],
 "metadata": {
  "kernelspec": {
   "display_name": "lux37",
   "language": "python",
   "name": "lux37"
  },
  "language_info": {
   "codemirror_mode": {
    "name": "ipython",
    "version": 3
   },
   "file_extension": ".py",
   "mimetype": "text/x-python",
   "name": "python",
   "nbconvert_exporter": "python",
   "pygments_lexer": "ipython3",
   "version": "3.7.16"
  },
  "vscode": {
   "interpreter": {
    "hash": "95c78092eaa97395644b547c35f355f36ca9b4a25bd2b7641e327063759a9b57"
   }
  }
 },
 "nbformat": 4,
 "nbformat_minor": 4
}
