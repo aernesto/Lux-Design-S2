{
 "cells": [
  {
   "cell_type": "code",
   "execution_count": 1,
   "metadata": {
    "execution": {
     "iopub.execute_input": "2023-01-24T19:39:43.846990Z",
     "iopub.status.busy": "2023-01-24T19:39:43.846545Z",
     "iopub.status.idle": "2023-01-24T19:39:45.768603Z",
     "shell.execute_reply": "2023-01-24T19:39:45.767534Z",
     "shell.execute_reply.started": "2023-01-24T19:39:43.846946Z"
    }
   },
   "outputs": [],
   "source": [
    "from luxai_s2.env import LuxAI_S2\n",
    "import matplotlib.pyplot as plt\n",
    "import matplotlib\n",
    "import uuid\n",
    "import logging\n",
    "import numpy as np\n",
    "from functools import partial\n",
    "from agents_experiments import (IdleAgent, ControlledAgent, interact)\n",
    "from pprint import pprint\n",
    "from time import perf_counter\n",
    "\n",
    "matplotlib.rc('font', size=14)\n",
    "logger = logging.getLogger()"
   ]
  },
  {
   "cell_type": "code",
   "execution_count": 2,
   "metadata": {
    "execution": {
     "iopub.execute_input": "2023-01-24T19:44:47.928300Z",
     "iopub.status.busy": "2023-01-24T19:44:47.927887Z",
     "iopub.status.idle": "2023-01-24T19:44:52.501069Z",
     "shell.execute_reply": "2023-01-24T19:44:52.499615Z",
     "shell.execute_reply.started": "2023-01-24T19:44:47.928266Z"
    },
    "scrolled": false
   },
   "outputs": [
    {
     "name": "stderr",
     "output_type": "stream",
     "text": [
      "INFO:root:iteration seed 0 took 32.50600322700029 seconds\n",
      "INFO:root:iteration seed 1 took 9.955982925999706 seconds\n",
      "INFO:root:iteration seed 2 took 44.51492631699966 seconds\n",
      "INFO:root:iteration seed 3 took 98.38616054600061 seconds\n",
      "INFO:root:iteration seed 4 took 121.46178737500031 seconds\n",
      "INFO:root:iteration seed 5 took 9.910447767000733 seconds\n",
      "INFO:root:iteration seed 6 took 12.30269928999951 seconds\n",
      "INFO:root:iteration seed 7 took 85.21947947900026 seconds\n",
      "INFO:root:iteration seed 8 took 8.63927521200003 seconds\n",
      "INFO:root:iteration seed 9 took 93.07074035900041 seconds\n",
      "INFO:root:iteration seed 10 took 46.55783623499974 seconds\n",
      "INFO:root:iteration seed 11 took 12.042997253999602 seconds\n"
     ]
    },
    {
     "name": "stdout",
     "output_type": "stream",
     "text": [
      "/home/adrian_admin/prog/kaggle/lux-ai-2/Lux-Design-S2/data/experiments/adrian/images/c9f8003f-b982-4b85-8aa4-8e38d5ac1e82.png\n"
     ]
    }
   ],
   "source": [
    "logger.setLevel(logging.INFO)\n",
    "NUM_SEEDS = 12\n",
    "assert NUM_SEEDS % 3 == 0, \"NUM_SEEDS should be even\"\n",
    "half = NUM_SEEDS // 3\n",
    "f, axes = plt.subplots(half, 3, figsize=(15, 5 * half))\n",
    "\n",
    "for seed, ax in enumerate(axes.ravel()):\n",
    "    tic = perf_counter()\n",
    "    env = LuxAI_S2()\n",
    "    obs = env.reset(seed=seed)\n",
    "\n",
    "    plotname = str(uuid.uuid4()) + '.png'\n",
    "    file_path = '/home/adrian_admin/prog/kaggle/lux-ai-2/Lux-Design-S2/data/experiments/adrian/images/'\n",
    "    animate_arg = ''  # file_path + filename\n",
    "\n",
    "    agents = {}\n",
    "    controlled_agent_ = partial(ControlledAgent, radius=30, threshold=1)\n",
    "    for player, agent_constructor in zip(env.agents, [controlled_agent_, controlled_agent_]):\n",
    "        logging.debug(player)\n",
    "        agents[player] = agent_constructor(player, env.state.env_cfg) \n",
    "\n",
    "    last_obs = interact(\n",
    "        env, \n",
    "        agents, \n",
    "        10, \n",
    "        animate_=animate_arg, \n",
    "        break_at_first_action=False, \n",
    "        debug=False, \n",
    "        custom_board=None,  #simple_board\n",
    "        seed=seed\n",
    "    )\n",
    "    \n",
    "    img = env.render(\"rgb_array\", width=640, height=640)\n",
    "    ax.imshow(img);\n",
    "    ax.axis('off');\n",
    "    ax.set_title('seed={}'.format(seed))\n",
    "    logging.info('iteration seed {} took {} seconds'.format(seed, perf_counter() - tic))\n",
    "f.savefig(file_path + plotname)\n",
    "print(file_path + plotname)\n",
    "plt.close(f);"
   ]
  },
  {
   "cell_type": "code",
   "execution_count": null,
   "metadata": {},
   "outputs": [],
   "source": []
  }
 ],
 "metadata": {
  "kernelspec": {
   "display_name": "lux37",
   "language": "python",
   "name": "lux37"
  },
  "language_info": {
   "codemirror_mode": {
    "name": "ipython",
    "version": 3
   },
   "file_extension": ".py",
   "mimetype": "text/x-python",
   "name": "python",
   "nbconvert_exporter": "python",
   "pygments_lexer": "ipython3",
   "version": "3.7.16"
  },
  "vscode": {
   "interpreter": {
    "hash": "95c78092eaa97395644b547c35f355f36ca9b4a25bd2b7641e327063759a9b57"
   }
  }
 },
 "nbformat": 4,
 "nbformat_minor": 4
}
