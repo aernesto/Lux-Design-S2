{
 "cells": [
  {
   "cell_type": "code",
   "execution_count": 1,
   "metadata": {
    "execution": {
     "iopub.execute_input": "2023-01-24T19:39:43.846990Z",
     "iopub.status.busy": "2023-01-24T19:39:43.846545Z",
     "iopub.status.idle": "2023-01-24T19:39:45.768603Z",
     "shell.execute_reply": "2023-01-24T19:39:45.767534Z",
     "shell.execute_reply.started": "2023-01-24T19:39:43.846946Z"
    }
   },
   "outputs": [],
   "source": [
    "from luxai_s2.env import LuxAI_S2\n",
    "from luxai_s2.map.board import Board\n",
    "from luxai_s2.map_generator.generator import GameMap\n",
    "import matplotlib.pyplot as plt\n",
    "import matplotlib\n",
    "import logging\n",
    "import numpy as np\n",
    "from luxai_s2.utils import my_turn_to_place_factory\n",
    "from agents_experiments import (reset_w_custom_board, IdleAgent, ControlledAgent, interact)\n",
    "from plots import plot_factory_stats, plot_robot_stats\n",
    "import uuid\n",
    "from IPython.display import Video\n",
    "from pprint import pprint\n",
    "from robots import CartesianPoint\n",
    "import pandas as pd\n",
    "# import seaborn as sns\n",
    "\n",
    "matplotlib.rc('font', size=14)\n",
    "logger = logging.getLogger()\n",
    "logger.setLevel(logging.DEBUG)"
   ]
  },
  {
   "cell_type": "code",
   "execution_count": 2,
   "metadata": {
    "execution": {
     "iopub.execute_input": "2023-01-24T19:39:46.052351Z",
     "iopub.status.busy": "2023-01-24T19:39:46.051205Z",
     "iopub.status.idle": "2023-01-24T19:39:46.068702Z",
     "shell.execute_reply": "2023-01-24T19:39:46.067580Z",
     "shell.execute_reply.started": "2023-01-24T19:39:46.052316Z"
    }
   },
   "outputs": [],
   "source": [
    "# # key-values of dict below should match attributes present in this class\n",
    "# # https://github.com/aernesto/Lux-Design-S2/blob/adrian/luxai_s2/luxai_s2/config.py#L34\n",
    "# environment_config = dict(\n",
    "# #         max_episode_length=350,  # how many total turns in game\n",
    "# #         CYCLE_LENGTH=50,\n",
    "# #         DAY_LENGTH=50,  # so no night\n",
    "#         map_size=48,\n",
    "#         MAX_RUBBLE=0,  # disable rubble   \n",
    "#         MIN_FACTORIES=2,  \n",
    "#         MAX_FACTORIES=5\n",
    "#     )\n",
    "# env = LuxAI_S2(**environment_config)\n",
    "# custom_rubble = np.zeros((env.env_cfg.map_size,) * 2, dtype=np.int64)\n",
    "\n",
    "# # Let's put a single ice\n",
    "# custom_ice = np.zeros_like(custom_rubble)\n",
    "# custom_ice[10, 10] = 1\n",
    "\n",
    "# # Let's put a single ore at 21, 21\n",
    "# custom_ore = np.zeros_like(custom_rubble)\n",
    "# custom_ore[11, 11] = 1\n",
    "\n",
    "# custom_symmetry = None\n",
    "\n",
    "\n",
    "# custom_map_ = GameMap(custom_rubble, custom_ice, custom_ore, custom_symmetry)\n",
    "\n",
    "# simple_board = Board(\n",
    "#     seed=env.seed_rng.randint(0, 2**32 - 1, dtype=np.int64), \n",
    "#     env_cfg=env.env_cfg,\n",
    "#     existing_map=custom_map_\n",
    "# )\n",
    "\n",
    "# obs, env = reset_w_custom_board(env, seed=41, custom_board=simple_board)\n",
    "    \n",
    "# # source code of reset() method: \n",
    "# # https://github.com/aernesto/Lux-Design-S2/blob/adrian/luxai_s2/luxai_s2/env.py#L175\n",
    "# # obs = env.reset(seed=41) # resets an environment with a seed"
   ]
  },
  {
   "cell_type": "code",
   "execution_count": 3,
   "metadata": {},
   "outputs": [],
   "source": [
    "env = LuxAI_S2()\n",
    "SEED = 1\n",
    "obs = env.reset(seed=SEED)"
   ]
  },
  {
   "cell_type": "code",
   "execution_count": 4,
   "metadata": {
    "execution": {
     "iopub.execute_input": "2023-01-24T19:44:47.928300Z",
     "iopub.status.busy": "2023-01-24T19:44:47.927887Z",
     "iopub.status.idle": "2023-01-24T19:44:52.501069Z",
     "shell.execute_reply": "2023-01-24T19:44:52.499615Z",
     "shell.execute_reply.started": "2023-01-24T19:44:47.928266Z"
    },
    "scrolled": false
   },
   "outputs": [
    {
     "name": "stderr",
     "output_type": "stream",
     "text": [
      "DEBUG:root:player_0\n",
      "DEBUG:root:player_1\n",
      "DEBUG:root:{x: 31, y: 6, x: 3, y: 35, x: 30, y: 3, x: 46, y: 38, x: 32, y: 6, x: 23, y: 32, x: 28, y: 1, x: 36, y: 3, x: 44, y: 30, x: 30, y: 4, x: 22, y: 33, x: 12, y: 9, x: 34, y: 4, x: 39, y: 8, x: 31, y: 5, x: 10, y: 12, x: 28, y: 2, x: 38, y: 2, x: 33, y: 6, x: 29, y: 3, x: 34, y: 5, x: 44, y: 35, x: 27, y: 1, x: 18, y: 2, x: 29, y: 30, x: 31, y: 4, x: 20, y: 1, x: 33, y: 5, x: 19, y: 2, x: 29, y: 2, x: 31, y: 3, x: 3, y: 36, x: 30, y: 2, x: 29, y: 1, x: 44, y: 36, x: 1, y: 38, x: 25, y: 33, x: 44, y: 29, x: 24, y: 32}\n",
      "INFO:root:writing /home/adrian_admin/prog/kaggle/lux-ai-2/Lux-Design-S2/data/experiments/adrian/57bf4853-7c08-44f3-af47-ebaa26823c60.mp4\n"
     ]
    }
   ],
   "source": [
    "logger.setLevel(logging.DEBUG)\n",
    "\n",
    "filename = str(uuid.uuid4()) + '.mp4'\n",
    "file_path = '/home/adrian_admin/prog/kaggle/lux-ai-2/Lux-Design-S2/data/experiments/adrian/'\n",
    "animate_arg = file_path + filename\n",
    "\n",
    "agents = {}\n",
    "for player, agent_constructor in zip(env.agents, [IdleAgent, ControlledAgent]):\n",
    "    logging.debug(player)\n",
    "    agents[player] = agent_constructor(player, env.state.env_cfg) \n",
    "    \n",
    "last_obs = interact(\n",
    "    env, \n",
    "    agents, \n",
    "    10, \n",
    "    animate_=animate_arg, \n",
    "    break_at_first_action=False, \n",
    "    debug=False, \n",
    "    custom_board=None,  #simple_board\n",
    "    seed=SEED\n",
    ")\n",
    "# print(last_obs)"
   ]
  },
  {
   "cell_type": "code",
   "execution_count": 5,
   "metadata": {},
   "outputs": [
    {
     "data": {
      "text/html": [
       "<video controls  >\n",
       " <source src=\"data:video/mp4;base64,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\" type=\"video/mp4\">\n",
       " Your browser does not support the video tag.\n",
       " </video>"
      ],
      "text/plain": [
       "<IPython.core.display.Video object>"
      ]
     },
     "execution_count": 5,
     "metadata": {},
     "output_type": "execute_result"
    }
   ],
   "source": [
    "Video(animate_arg, embed=True)"
   ]
  },
  {
   "cell_type": "code",
   "execution_count": 6,
   "metadata": {},
   "outputs": [
    {
     "data": {
      "text/plain": [
       "array([3, 4])"
      ]
     },
     "execution_count": 6,
     "metadata": {},
     "output_type": "execute_result"
    }
   ],
   "source": [
    "np.array((2, 3, 4)[1:])"
   ]
  },
  {
   "cell_type": "code",
   "execution_count": 7,
   "metadata": {
    "scrolled": true
   },
   "outputs": [],
   "source": [
    "# #video above is missing bottom pixels for some reason \n",
    "# logger.setLevel(logging.INFO)\n",
    "# img = env.render(\"rgb_array\", width=640, height=640)\n",
    "# f, ax = plt.subplots(figsize=(7, 7))\n",
    "# ax.imshow(img);"
   ]
  },
  {
   "cell_type": "code",
   "execution_count": 8,
   "metadata": {
    "scrolled": true
   },
   "outputs": [],
   "source": [
    "# logger.setLevel(logging.INFO)\n",
    "# plot_robot_stats(agents['player_1'].stats);"
   ]
  },
  {
   "cell_type": "code",
   "execution_count": null,
   "metadata": {},
   "outputs": [],
   "source": []
  }
 ],
 "metadata": {
  "kernelspec": {
   "display_name": "lux37",
   "language": "python",
   "name": "lux37"
  },
  "language_info": {
   "codemirror_mode": {
    "name": "ipython",
    "version": 3
   },
   "file_extension": ".py",
   "mimetype": "text/x-python",
   "name": "python",
   "nbconvert_exporter": "python",
   "pygments_lexer": "ipython3",
   "version": "3.7.16"
  },
  "vscode": {
   "interpreter": {
    "hash": "95c78092eaa97395644b547c35f355f36ca9b4a25bd2b7641e327063759a9b57"
   }
  }
 },
 "nbformat": 4,
 "nbformat_minor": 4
}
