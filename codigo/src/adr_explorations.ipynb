{
 "cells": [
  {
   "cell_type": "code",
   "execution_count": 1,
   "metadata": {
    "execution": {
     "iopub.execute_input": "2023-01-24T19:39:43.846990Z",
     "iopub.status.busy": "2023-01-24T19:39:43.846545Z",
     "iopub.status.idle": "2023-01-24T19:39:45.768603Z",
     "shell.execute_reply": "2023-01-24T19:39:45.767534Z",
     "shell.execute_reply.started": "2023-01-24T19:39:43.846946Z"
    }
   },
   "outputs": [],
   "source": [
    "from luxai_s2.env import LuxAI_S2\n",
    "from luxai_s2.map.board import Board\n",
    "from luxai_s2.map_generator.generator import GameMap\n",
    "import matplotlib.pyplot as plt\n",
    "import matplotlib\n",
    "import logging\n",
    "import numpy as np\n",
    "from luxai_s2.utils import my_turn_to_place_factory\n",
    "from agents_experiments import (reset_w_custom_board, IdleAgent, interact)\n",
    "from obs import CenteredObservation, RobotCenteredObservation\n",
    "from robots import Enacter\n",
    "import uuid\n",
    "\n",
    "\n",
    "logger = logging.getLogger()\n",
    "logger.setLevel(logging.DEBUG)\n",
    "\n",
    "matplotlib.rc('font', size=14)\n",
    "\n",
    "from luxai_s2.env import EnvConfig\n",
    "    \n",
    "class ControlledAgent:\n",
    "    factories: dict\n",
    "    actions: dict\n",
    "    calls_to_act: int = 0\n",
    "    \n",
    "    def __init__(self, player: str, env_cfg: EnvConfig) -> None:\n",
    "        self.player = player\n",
    "        self.opp_player = \"player_1\" if self.player == \"player_0\" else \"player_0\"\n",
    "        np.random.seed(0)\n",
    "        self.env_cfg: EnvConfig = env_cfg\n",
    "            \n",
    "    def early_setup(self, step: int, obs, remainingOverageTime: int = 60):\n",
    "        if step == 0:\n",
    "            return dict(faction=\"AlphaStrike\", bid=0)\n",
    "        else:\n",
    "            myteam = obs['teams'][self.player]\n",
    "\n",
    "            try:\n",
    "                water_left = myteam['water']\n",
    "            except AttributeError:\n",
    "                print(myteam)\n",
    "                raise \n",
    "            metal_left = myteam['metal']\n",
    "\n",
    "            # how many factories you have left to place\n",
    "            factories_to_place = myteam['factories_to_place']\n",
    "            \n",
    "            # whether it is your turn to place a factory\n",
    "            my_turn_to_place = my_turn_to_place_factory(myteam['place_first'], step)\n",
    "            \n",
    "            if factories_to_place > 0 and my_turn_to_place:\n",
    "                inner_list = list(zip(*np.where(obs[\"board\"][\"valid_spawns_mask\"] == 1)))\n",
    "                potential_spawns = np.array(inner_list)    \n",
    "                selected_location_ix = 0\n",
    "                spawn_loc = potential_spawns[selected_location_ix]\n",
    "                return dict(spawn=spawn_loc, metal=150, water=150)\n",
    "            return dict()\n",
    "\n",
    "\n",
    "    def act(self, step: int, obs, remainingOverageTime: int = 60):\n",
    "        self.calls_to_act += 1\n",
    "        actions = dict()\n",
    "        game_state: GameState = obs_to_game_state(step, self.env_cfg, obs)\n",
    "        factories = game_state.factories[self.player]\n",
    "        self.factories = factories\n",
    "        logger.debug(f\"{type(factories)=}\")\n",
    "        logger.debug(f\"{factories=}\")\n",
    "        for unit_id, factory in factories.items():\n",
    "            if factory.power >= self.env_cfg.ROBOTS[\"HEAVY\"].POWER_COST and \\\n",
    "            factory.cargo.metal >= self.env_cfg.ROBOTS[\"HEAVY\"].METAL_COST:\n",
    "                actions[unit_id] = factory.build_heavy()\n",
    "        self.actions = actions\n",
    "        return actions\n",
    "    \n",
    "    def debug_act(self, step: int, obs, remainingOverageTime: int = 60):\n",
    "        observation = CenteredObservation(obs, self.player)\n",
    "        \n",
    "        # who am I?\n",
    "        logger.debug(f'I am {observation.myself}')\n",
    "        \n",
    "        # what turn is it?\n",
    "        logger.debug(f'{step=}  {remainingOverageTime=}')\n",
    "        \n",
    "        self.calls_to_act += 1\n",
    "        actions = dict()\n",
    "        \n",
    "        # how many factories does each player have, and where?\n",
    "        def count_and_locate_factories(fac):\n",
    "            count = len(fac)\n",
    "            locations = list(v['pos'] for v in fac.values())\n",
    "            return count, locations\n",
    "\n",
    "        myteam_ = observation.my_factories\n",
    "        opp_team_ = observation.opp_factories\n",
    "        try:\n",
    "            my_factories = count_and_locate_factories(myteam_)\n",
    "            logger.debug(f'{my_factories=}')\n",
    "        except KeyError:\n",
    "            logger.debug('no factories found in controlled agent\\'s team')\n",
    "            \n",
    "        try:\n",
    "            opponents_factories =count_and_locate_factories(opp_team_)\n",
    "            logger.debug(f'{opponents_factories=}')\n",
    "        except KeyError:\n",
    "            logger.debug('no factories found in opponent agent\\'s team')\n",
    "            \n",
    "        \n",
    "        # where are ice and ore?\n",
    "        logger.debug('where are ice and ore?')\n",
    "        logger.debug(f'{observation.ice_map.shape=}  {observation.ice_map.dtype=}  {observation.ice_map.sum()=}')\n",
    "        logger.debug(f'{observation.ore_map.shape=}  {observation.ore_map.dtype=}  {observation.ore_map.sum()=}')\n",
    "        \n",
    "        factories = obs['factories'][self.player]\n",
    "        self.factories = factories\n",
    "        \n",
    "        for unit_id, factory in factories.items():\n",
    "            if factory['power'] >= self.env_cfg.ROBOTS[\"HEAVY\"].POWER_COST and \\\n",
    "            factory['cargo']['metal'] >= self.env_cfg.ROBOTS[\"HEAVY\"].METAL_COST:\n",
    "                try:\n",
    "                    actions[unit_id] = 1  # build heavy\n",
    "                except AttributeError:\n",
    "                    print(obs)\n",
    "                    raise\n",
    "        \n",
    "#         logging.debug(f'max queue size={self.env_cfg.UNIT_ACTION_QUEUE_SIZE}')\n",
    "        \n",
    "        for unit_id in observation.my_units.keys():\n",
    "            robot_obs = RobotCenteredObservation(obs, unit_id)\n",
    "            robot = Enacter(robot_obs, self.env_cfg)\n",
    "            \n",
    "            logging.debug(f'Hi, I am robot {robot_obs.myself}')\n",
    "            if not robot_obs.queue:\n",
    "                actions[unit_id] = [robot.move_right(finite=5)]\n",
    "            logging.debug(f'{robot_obs.state=}')\n",
    "                    \n",
    "        self.actions = actions\n",
    "        \n",
    "        # what were my returned actions?\n",
    "        logger.debug(f'{actions=}')\n",
    "        return actions"
   ]
  },
  {
   "cell_type": "code",
   "execution_count": 2,
   "metadata": {
    "execution": {
     "iopub.execute_input": "2023-01-24T19:39:46.052351Z",
     "iopub.status.busy": "2023-01-24T19:39:46.051205Z",
     "iopub.status.idle": "2023-01-24T19:39:46.068702Z",
     "shell.execute_reply": "2023-01-24T19:39:46.067580Z",
     "shell.execute_reply.started": "2023-01-24T19:39:46.052316Z"
    }
   },
   "outputs": [],
   "source": [
    "# key-values of dict below should match attributes present in this class\n",
    "# https://github.com/aernesto/Lux-Design-S2/blob/adrian/luxai_s2/luxai_s2/config.py#L34\n",
    "environment_config = dict(\n",
    "        max_episode_length=350,  # how many total turns in game\n",
    "        CYCLE_LENGTH=50,\n",
    "        DAY_LENGTH=50,  # so no night\n",
    "        MAX_RUBBLE=0,  # disable rubble   \n",
    "        MIN_FACTORIES=2,  \n",
    "        MAX_FACTORIES=2\n",
    "    )\n",
    "env = LuxAI_S2(**environment_config)\n",
    "custom_rubble = np.zeros((env.env_cfg.map_size,) * 2, dtype=np.int64)\n",
    "\n",
    "# Let's put a single ice at 30,30\n",
    "custom_ice = np.zeros_like(custom_rubble)\n",
    "custom_ice[30, 30] = 1\n",
    "\n",
    "# Let's put a single ore at 21, 21\n",
    "custom_ore = np.zeros_like(custom_rubble)\n",
    "custom_ore[21, 21] = 1\n",
    "\n",
    "custom_symmetry = None\n",
    "\n",
    "\n",
    "custom_map_ = GameMap(custom_rubble, custom_ice, custom_ore, custom_symmetry)\n",
    "\n",
    "simple_board = Board(\n",
    "    seed=env.seed_rng.randint(0, 2**32 - 1, dtype=np.int64), \n",
    "    env_cfg=env.env_cfg,\n",
    "    existing_map=custom_map_\n",
    ")\n",
    "\n",
    "obs, env = reset_w_custom_board(env, seed=41, custom_board=simple_board)\n",
    "    \n",
    "# source code of reset() method: \n",
    "# https://github.com/aernesto/Lux-Design-S2/blob/adrian/luxai_s2/luxai_s2/env.py#L175\n",
    "# obs = env.reset(seed=41) # resets an environment with a seed"
   ]
  },
  {
   "cell_type": "code",
   "execution_count": 3,
   "metadata": {},
   "outputs": [
    {
     "data": {
      "text/plain": [
       "2098"
      ]
     },
     "execution_count": 3,
     "metadata": {},
     "output_type": "execute_result"
    }
   ],
   "source": [
    "# first player cannot place factory on any boundary, so inner square has dimensions 46x46\n",
    "# the 2 isolated resources remove each 9 tiles from the potential spawn locations\n",
    "46*46- 9*2"
   ]
  },
  {
   "cell_type": "code",
   "execution_count": 4,
   "metadata": {},
   "outputs": [
    {
     "data": {
      "text/plain": [
       "2070"
      ]
     },
     "execution_count": 4,
     "metadata": {},
     "output_type": "execute_result"
    }
   ],
   "source": [
    "2098 -28"
   ]
  },
  {
   "cell_type": "code",
   "execution_count": 5,
   "metadata": {
    "execution": {
     "iopub.execute_input": "2023-01-24T19:43:20.020710Z",
     "iopub.status.busy": "2023-01-24T19:43:20.020210Z",
     "iopub.status.idle": "2023-01-24T19:43:22.001899Z",
     "shell.execute_reply": "2023-01-24T19:43:22.000148Z",
     "shell.execute_reply.started": "2023-01-24T19:43:20.020674Z"
    },
    "scrolled": true
   },
   "outputs": [],
   "source": [
    "# recreate our agents and run\n",
    "agents = {}\n",
    "for player, agent_constructor in zip(env.agents, [IdleAgent, ControlledAgent]):\n",
    "    agents[player] = agent_constructor(player, env.state.env_cfg) \n",
    "last_obs = interact(env, agents, 3, custom_board=simple_board)"
   ]
  },
  {
   "cell_type": "code",
   "execution_count": 6,
   "metadata": {
    "scrolled": true
   },
   "outputs": [
    {
     "data": {
      "image/png": "[encoded data removed]",
      "text/plain": [
       "<Figure size 700x700 with 1 Axes>"
      ]
     },
     "metadata": {},
     "output_type": "display_data"
    }
   ],
   "source": [
    "#video above is missing bottom pixels for some reason \n",
    "logger.setLevel(logging.INFO)\n",
    "img = env.render(\"rgb_array\", width=640, height=640)\n",
    "f, ax = plt.subplots(figsize=(7, 7))\n",
    "ax.imshow(img);"
   ]
  },
  {
   "cell_type": "code",
   "execution_count": 7,
   "metadata": {
    "execution": {
     "iopub.execute_input": "2023-01-24T19:44:47.928300Z",
     "iopub.status.busy": "2023-01-24T19:44:47.927887Z",
     "iopub.status.idle": "2023-01-24T19:44:52.501069Z",
     "shell.execute_reply": "2023-01-24T19:44:52.499615Z",
     "shell.execute_reply.started": "2023-01-24T19:44:47.928266Z"
    },
    "scrolled": false
   },
   "outputs": [
    {
     "name": "stderr",
     "output_type": "stream",
     "text": [
      "INFO:root:writing /home/adrian_admin/prog/kaggle/lux-ai-2/Lux-Design-S2/data/experiments/adrian/7decdf00-2449-449b-95b5-51e05f4f4624.mp4\n"
     ]
    },
    {
     "data": {
      "text/html": [
       "<video src=\"/home/adrian_admin/prog/kaggle/lux-ai-2/Lux-Design-S2/data/experiments/adrian/7decdf00-2449-449b-95b5-51e05f4f4624.mp4\" controls  >\n",
       "      Your browser does not support the <code>video</code> element.\n",
       "    </video>"
      ],
      "text/plain": [
       "<IPython.core.display.Video object>"
      ]
     },
     "execution_count": 7,
     "metadata": {},
     "output_type": "execute_result"
    }
   ],
   "source": [
    "logger.setLevel(logging.INFO)\n",
    "\n",
    "filename = str(uuid.uuid4()) + '.mp4'\n",
    "file_path = '/home/adrian_admin/prog/kaggle/lux-ai-2/Lux-Design-S2/data/experiments/adrian/'\n",
    "\n",
    "for player, agent_constructor in zip(env.agents, [IdleAgent, ControlledAgent]):\n",
    "    logging.debug(player)\n",
    "    agents[player] = agent_constructor(player, env.state.env_cfg) \n",
    "\n",
    "    \n",
    "_ = interact(\n",
    "    env, \n",
    "    agents, \n",
    "    13, \n",
    "    animate_=file_path + filename, \n",
    "    break_at_first_action=False, \n",
    "    debug=True, \n",
    "    custom_board=simple_board\n",
    ")\n",
    "# print(last_obs)"
   ]
  },
  {
   "cell_type": "code",
   "execution_count": 8,
   "metadata": {},
   "outputs": [],
   "source": [
    "from IPython.display import Video"
   ]
  },
  {
   "cell_type": "code",
   "execution_count": 9,
   "metadata": {},
   "outputs": [
    {
     "data": {
      "text/html": [
       "<video controls  >\n",
       " <source src=\"data:video/mp4;base64,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\" type=\"video/mp4\">\n",
       " Your browser does not support the video tag.\n",
       " </video>"
      ],
      "text/plain": [
       "<IPython.core.display.Video object>"
      ]
     },
     "execution_count": 9,
     "metadata": {},
     "output_type": "execute_result"
    }
   ],
   "source": [
    "Video(file_path + filename, embed=True)"
   ]
  },
  {
   "cell_type": "code",
   "execution_count": 10,
   "metadata": {},
   "outputs": [
    {
     "data": {
      "image/png": "[encoded data removed]",
      "text/plain": [
       "<Figure size 700x700 with 1 Axes>"
      ]
     },
     "metadata": {},
     "output_type": "display_data"
    }
   ],
   "source": [
    "#video above is missing bottom pixels for some reason \n",
    "img = env.render(\"rgb_array\", width=640, height=640)\n",
    "f, ax = plt.subplots(figsize=(7, 7))\n",
    "ax.imshow(img);"
   ]
  },
  {
   "cell_type": "code",
   "execution_count": null,
   "metadata": {},
   "outputs": [],
   "source": []
  }
 ],
 "metadata": {
  "kernelspec": {
   "display_name": "lux310",
   "language": "python",
   "name": "lux310"
  },
  "language_info": {
   "codemirror_mode": {
    "name": "ipython",
    "version": 3
   },
   "file_extension": ".py",
   "mimetype": "text/x-python",
   "name": "python",
   "nbconvert_exporter": "python",
   "pygments_lexer": "ipython3",
   "version": "3.10.9"
  },
  "vscode": {
   "interpreter": {
    "hash": "95c78092eaa97395644b547c35f355f36ca9b4a25bd2b7641e327063759a9b57"
   }
  }
 },
 "nbformat": 4,
 "nbformat_minor": 4
}
