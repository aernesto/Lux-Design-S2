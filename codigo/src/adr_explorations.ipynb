{
 "cells": [
  {
   "cell_type": "code",
   "execution_count": 1,
   "metadata": {
    "execution": {
     "iopub.execute_input": "2023-01-24T19:39:43.846990Z",
     "iopub.status.busy": "2023-01-24T19:39:43.846545Z",
     "iopub.status.idle": "2023-01-24T19:39:45.768603Z",
     "shell.execute_reply": "2023-01-24T19:39:45.767534Z",
     "shell.execute_reply.started": "2023-01-24T19:39:43.846946Z"
    }
   },
   "outputs": [],
   "source": [
    "from luxai_s2.env import LuxAI_S2\n",
    "from luxai_s2.map.board import Board\n",
    "from luxai_s2.map_generator.generator import GameMap\n",
    "import matplotlib.pyplot as plt\n",
    "import matplotlib\n",
    "import logging\n",
    "import numpy as np\n",
    "from luxai_s2.utils import my_turn_to_place_factory\n",
    "from agents_experiments import (reset_w_custom_board, IdleAgent, ControlledAgent, interact)\n",
    "from plots import plot_factory_stats\n",
    "import uuid\n",
    "from IPython.display import Video\n",
    "from pprint import pprint\n",
    "\n",
    "import pandas as pd\n",
    "# import seaborn as sns\n",
    "\n",
    "matplotlib.rc('font', size=14)\n",
    "logger = logging.getLogger()\n",
    "logger.setLevel(logging.DEBUG)"
   ]
  },
  {
   "cell_type": "code",
   "execution_count": 2,
   "metadata": {
    "execution": {
     "iopub.execute_input": "2023-01-24T19:39:46.052351Z",
     "iopub.status.busy": "2023-01-24T19:39:46.051205Z",
     "iopub.status.idle": "2023-01-24T19:39:46.068702Z",
     "shell.execute_reply": "2023-01-24T19:39:46.067580Z",
     "shell.execute_reply.started": "2023-01-24T19:39:46.052316Z"
    }
   },
   "outputs": [],
   "source": [
    "# key-values of dict below should match attributes present in this class\n",
    "# https://github.com/aernesto/Lux-Design-S2/blob/adrian/luxai_s2/luxai_s2/config.py#L34\n",
    "environment_config = dict(\n",
    "#         max_episode_length=350,  # how many total turns in game\n",
    "#         CYCLE_LENGTH=50,\n",
    "#         DAY_LENGTH=50,  # so no night\n",
    "        MAX_RUBBLE=0,  # disable rubble   \n",
    "        MIN_FACTORIES=2,  \n",
    "        MAX_FACTORIES=2\n",
    "    )\n",
    "env = LuxAI_S2(**environment_config)\n",
    "custom_rubble = np.zeros((env.env_cfg.map_size,) * 2, dtype=np.int64)\n",
    "\n",
    "# Let's put a single ice at 30,30\n",
    "custom_ice = np.zeros_like(custom_rubble)\n",
    "custom_ice[30, 30] = 1\n",
    "\n",
    "# Let's put a single ore at 21, 21\n",
    "custom_ore = np.zeros_like(custom_rubble)\n",
    "custom_ore[21, 21] = 1\n",
    "\n",
    "custom_symmetry = None\n",
    "\n",
    "\n",
    "custom_map_ = GameMap(custom_rubble, custom_ice, custom_ore, custom_symmetry)\n",
    "\n",
    "simple_board = Board(\n",
    "    seed=env.seed_rng.randint(0, 2**32 - 1, dtype=np.int64), \n",
    "    env_cfg=env.env_cfg,\n",
    "    existing_map=custom_map_\n",
    ")\n",
    "\n",
    "obs, env = reset_w_custom_board(env, seed=41, custom_board=simple_board)\n",
    "    \n",
    "# source code of reset() method: \n",
    "# https://github.com/aernesto/Lux-Design-S2/blob/adrian/luxai_s2/luxai_s2/env.py#L175\n",
    "# obs = env.reset(seed=41) # resets an environment with a seed"
   ]
  },
  {
   "cell_type": "code",
   "execution_count": 3,
   "metadata": {},
   "outputs": [
    {
     "data": {
      "text/plain": [
       "2098"
      ]
     },
     "execution_count": 3,
     "metadata": {},
     "output_type": "execute_result"
    }
   ],
   "source": [
    "# first player cannot place factory on any boundary, so inner square has dimensions 46x46\n",
    "# the 2 isolated resources remove each 9 tiles from the potential spawn locations\n",
    "46*46- 9*2"
   ]
  },
  {
   "cell_type": "code",
   "execution_count": 4,
   "metadata": {},
   "outputs": [
    {
     "data": {
      "text/plain": [
       "2070"
      ]
     },
     "execution_count": 4,
     "metadata": {},
     "output_type": "execute_result"
    }
   ],
   "source": [
    "2098 -28"
   ]
  },
  {
   "cell_type": "code",
   "execution_count": 5,
   "metadata": {
    "execution": {
     "iopub.execute_input": "2023-01-24T19:44:47.928300Z",
     "iopub.status.busy": "2023-01-24T19:44:47.927887Z",
     "iopub.status.idle": "2023-01-24T19:44:52.501069Z",
     "shell.execute_reply": "2023-01-24T19:44:52.499615Z",
     "shell.execute_reply.started": "2023-01-24T19:44:47.928266Z"
    },
    "scrolled": false
   },
   "outputs": [
    {
     "name": "stderr",
     "output_type": "stream",
     "text": [
      "DEBUG:root:player_0\n",
      "DEBUG:root:player_1\n"
     ]
    }
   ],
   "source": [
    "logger.setLevel(logging.DEBUG)\n",
    "\n",
    "filename = str(uuid.uuid4()) + '.mp4'\n",
    "file_path = '/home/adrian_admin/prog/kaggle/lux-ai-2/Lux-Design-S2/data/experiments/adrian/'\n",
    "animate_arg = ''  # file_path + filename\n",
    "\n",
    "agents = {}\n",
    "for player, agent_constructor in zip(env.agents, [IdleAgent, ControlledAgent]):\n",
    "    logging.debug(player)\n",
    "    agents[player] = agent_constructor(player, env.state.env_cfg) \n",
    "    \n",
    "_ = interact(\n",
    "    env, \n",
    "    agents, \n",
    "    30, \n",
    "    animate_=animate_arg, \n",
    "    break_at_first_action=False, \n",
    "    debug=False, \n",
    "    custom_board=simple_board\n",
    ")\n",
    "# print(last_obs)"
   ]
  },
  {
   "cell_type": "code",
   "execution_count": 6,
   "metadata": {},
   "outputs": [],
   "source": [
    "if animate_arg:\n",
    "    Video(animate_arg, embed=True)"
   ]
  },
  {
   "cell_type": "code",
   "execution_count": 7,
   "metadata": {
    "scrolled": true
   },
   "outputs": [],
   "source": [
    "# #video above is missing bottom pixels for some reason \n",
    "# logger.setLevel(logging.INFO)\n",
    "# img = env.render(\"rgb_array\", width=640, height=640)\n",
    "# f, ax = plt.subplots(figsize=(7, 7))\n",
    "# ax.imshow(img);"
   ]
  },
  {
   "cell_type": "code",
   "execution_count": 8,
   "metadata": {
    "scrolled": true
   },
   "outputs": [],
   "source": [
    "# plot_factory_stats(agents['player_1'].stats);"
   ]
  },
  {
   "cell_type": "markdown",
   "metadata": {},
   "source": [
    "# Network"
   ]
  },
  {
   "cell_type": "code",
   "execution_count": 9,
   "metadata": {},
   "outputs": [],
   "source": [
    "import itertools\n",
    "import networkx as nx"
   ]
  },
  {
   "cell_type": "code",
   "execution_count": 10,
   "metadata": {},
   "outputs": [],
   "source": [
    "G = nx.MultiDiGraph()\n",
    "board_length = 3  # env.env_cfg.map_size\n",
    "toy_rubble=np.array([[1, 1, 2], [0, 2, 3], [0, 0, 0]])\n",
    "G.add_nodes_from(itertools.product(range(board_length), range(board_length)))"
   ]
  },
  {
   "cell_type": "code",
   "execution_count": 11,
   "metadata": {},
   "outputs": [
    {
     "data": {
      "text/plain": [
       "[0, 0, 0, 0, 0, 0, 0, 0, 0, 0, 0, 0, 0, 0, 0, 0, 0, 0, 0, 0, 0, 0, 0, 0]"
      ]
     },
     "execution_count": 11,
     "metadata": {},
     "output_type": "execute_result"
    }
   ],
   "source": [
    "edges = []\n",
    "# x goes left to right\n",
    "# y goes top to bottom\n",
    "for x, y in itertools.product(range(board_length), range(board_length)):\n",
    "    weight = toy_rubble.T[x, y]\n",
    "    at_top_edge = y == 0\n",
    "    at_bottom_edge = y == board_length - 1\n",
    "    at_left_edge = x == 0\n",
    "    at_right_edge = x == board_length - 1\n",
    "    if not at_top_edge:\n",
    "        edges.append(((x, y - 1), (x, y), dict(weight=weight)))\n",
    "    if not at_bottom_edge:\n",
    "        edges.append(((x, y + 1), (x, y), dict(weight=weight)))\n",
    "    if not at_left_edge:\n",
    "        edges.append(((x - 1, y), (x, y), dict(weight=weight)))\n",
    "    if not at_right_edge:\n",
    "        edges.append(((x + 1, y), (x, y), dict(weight=weight)))\n",
    "G.add_edges_from(edges)"
   ]
  },
  {
   "cell_type": "code",
   "execution_count": 12,
   "metadata": {},
   "outputs": [
    {
     "data": {
      "text/plain": [
       "{}"
      ]
     },
     "execution_count": 12,
     "metadata": {},
     "output_type": "execute_result"
    }
   ],
   "source": [
    "G.graph"
   ]
  },
  {
   "cell_type": "code",
   "execution_count": 13,
   "metadata": {},
   "outputs": [
    {
     "data": {
      "text/plain": [
       "[((0, 1), (0, 0), {'weight': 1}),\n",
       " ((1, 0), (0, 0), {'weight': 1}),\n",
       " ((0, 0), (0, 1), {'weight': 0}),\n",
       " ((0, 2), (0, 1), {'weight': 0}),\n",
       " ((1, 1), (0, 1), {'weight': 0}),\n",
       " ((0, 1), (0, 2), {'weight': 0}),\n",
       " ((1, 2), (0, 2), {'weight': 0}),\n",
       " ((1, 1), (1, 0), {'weight': 1}),\n",
       " ((0, 0), (1, 0), {'weight': 1}),\n",
       " ((2, 0), (1, 0), {'weight': 1}),\n",
       " ((1, 0), (1, 1), {'weight': 2}),\n",
       " ((1, 2), (1, 1), {'weight': 2}),\n",
       " ((0, 1), (1, 1), {'weight': 2}),\n",
       " ((2, 1), (1, 1), {'weight': 2}),\n",
       " ((1, 1), (1, 2), {'weight': 0}),\n",
       " ((0, 2), (1, 2), {'weight': 0}),\n",
       " ((2, 2), (1, 2), {'weight': 0}),\n",
       " ((2, 1), (2, 0), {'weight': 2}),\n",
       " ((1, 0), (2, 0), {'weight': 2}),\n",
       " ((2, 0), (2, 1), {'weight': 3}),\n",
       " ((2, 2), (2, 1), {'weight': 3}),\n",
       " ((1, 1), (2, 1), {'weight': 3}),\n",
       " ((2, 1), (2, 2), {'weight': 0}),\n",
       " ((1, 2), (2, 2), {'weight': 0})]"
      ]
     },
     "execution_count": 13,
     "metadata": {},
     "output_type": "execute_result"
    }
   ],
   "source": [
    "edges"
   ]
  },
  {
   "cell_type": "code",
   "execution_count": 14,
   "metadata": {},
   "outputs": [],
   "source": [
    "# logger.setLevel(logging.INFO)\n",
    "# nx.draw(G)"
   ]
  },
  {
   "cell_type": "code",
   "execution_count": 15,
   "metadata": {},
   "outputs": [
    {
     "data": {
      "text/plain": [
       "[(0, 0), (0, 1), (0, 2), (1, 0), (1, 1), (1, 2), (2, 0), (2, 1), (2, 2)]"
      ]
     },
     "execution_count": 15,
     "metadata": {},
     "output_type": "execute_result"
    }
   ],
   "source": [
    "list(G.nodes)"
   ]
  },
  {
   "cell_type": "code",
   "execution_count": 16,
   "metadata": {},
   "outputs": [
    {
     "data": {
      "text/plain": [
       "OutMultiEdgeDataView([((0, 0), (0, 1), {'weight': 0}), ((0, 0), (1, 0), {'weight': 1}), ((0, 1), (0, 0), {'weight': 1}), ((0, 1), (0, 2), {'weight': 0}), ((0, 1), (1, 1), {'weight': 2}), ((0, 2), (0, 1), {'weight': 0}), ((0, 2), (1, 2), {'weight': 0}), ((1, 0), (0, 0), {'weight': 1}), ((1, 0), (1, 1), {'weight': 2}), ((1, 0), (2, 0), {'weight': 2}), ((1, 1), (0, 1), {'weight': 0}), ((1, 1), (1, 0), {'weight': 1}), ((1, 1), (1, 2), {'weight': 0}), ((1, 1), (2, 1), {'weight': 3}), ((1, 2), (0, 2), {'weight': 0}), ((1, 2), (1, 1), {'weight': 2}), ((1, 2), (2, 2), {'weight': 0}), ((2, 0), (1, 0), {'weight': 1}), ((2, 0), (2, 1), {'weight': 3}), ((2, 1), (1, 1), {'weight': 2}), ((2, 1), (2, 0), {'weight': 2}), ((2, 1), (2, 2), {'weight': 0}), ((2, 2), (1, 2), {'weight': 0}), ((2, 2), (2, 1), {'weight': 3})])"
      ]
     },
     "execution_count": 16,
     "metadata": {},
     "output_type": "execute_result"
    }
   ],
   "source": [
    "G.edges.data()"
   ]
  },
  {
   "cell_type": "code",
   "execution_count": 17,
   "metadata": {},
   "outputs": [
    {
     "name": "stdout",
     "output_type": "stream",
     "text": [
      "[(0, 0), (0, 1), (0, 2), (1, 2), (2, 2)]\n"
     ]
    }
   ],
   "source": [
    "print(nx.shortest_path(G, source=(0, 0), target=(2, 2), weight='weight'))"
   ]
  },
  {
   "cell_type": "code",
   "execution_count": 18,
   "metadata": {},
   "outputs": [
    {
     "data": {
      "text/plain": [
       "array([[1, 1, 2],\n",
       "       [0, 2, 3],\n",
       "       [0, 0, 0]])"
      ]
     },
     "execution_count": 18,
     "metadata": {},
     "output_type": "execute_result"
    }
   ],
   "source": [
    "toy_rubble"
   ]
  },
  {
   "cell_type": "code",
   "execution_count": 19,
   "metadata": {},
   "outputs": [
    {
     "name": "stdout",
     "output_type": "stream",
     "text": [
      "[(2, 1), (2, 2), (1, 2), (0, 2), (0, 1), (0, 0)]\n"
     ]
    }
   ],
   "source": [
    "print(nx.shortest_path(G, source=(2, 1), target=(0, 0), weight='weight'))"
   ]
  },
  {
   "cell_type": "code",
   "execution_count": null,
   "metadata": {},
   "outputs": [],
   "source": []
  }
 ],
 "metadata": {
  "kernelspec": {
   "display_name": "lux37",
   "language": "python",
   "name": "lux37"
  },
  "language_info": {
   "codemirror_mode": {
    "name": "ipython",
    "version": 3
   },
   "file_extension": ".py",
   "mimetype": "text/x-python",
   "name": "python",
   "nbconvert_exporter": "python",
   "pygments_lexer": "ipython3",
   "version": "3.7.16"
  },
  "vscode": {
   "interpreter": {
    "hash": "95c78092eaa97395644b547c35f355f36ca9b4a25bd2b7641e327063759a9b57"
   }
  }
 },
 "nbformat": 4,
 "nbformat_minor": 4
}
