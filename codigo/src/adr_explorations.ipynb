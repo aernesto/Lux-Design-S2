{
 "cells": [
  {
   "cell_type": "code",
   "execution_count": null,
   "metadata": {
    "execution": {
     "iopub.execute_input": "2023-01-24T19:39:43.846990Z",
     "iopub.status.busy": "2023-01-24T19:39:43.846545Z",
     "iopub.status.idle": "2023-01-24T19:39:45.768603Z",
     "shell.execute_reply": "2023-01-24T19:39:45.767534Z",
     "shell.execute_reply.started": "2023-01-24T19:39:43.846946Z"
    },
    "scrolled": false
   },
   "outputs": [],
   "source": [
    "from luxai_s2.env import LuxAI_S2\n",
    "from luxai_s2.map.board import Board\n",
    "from luxai_s2.map_generator.generator import GameMap\n",
    "import matplotlib.pyplot as plt\n",
    "import matplotlib\n",
    "import logging\n",
    "import numpy as np\n",
    "from luxai_s2.utils import my_turn_to_place_factory\n",
    "from agents_experiments import (reset_w_custom_board, IdleAgent, ControlledAgent, interact)\n",
    "from plots import plot_factory_stats, plot_robot_stats\n",
    "import uuid\n",
    "from IPython.display import Video\n",
    "from pprint import pprint\n",
    "from robots import CartesianPoint\n",
    "import pandas as pd\n",
    "# import seaborn as sns\n",
    "\n",
    "matplotlib.rc('font', size=14)\n",
    "logger = logging.getLogger()"
   ]
  },
  {
   "cell_type": "code",
   "execution_count": null,
   "metadata": {
    "scrolled": false
   },
   "outputs": [],
   "source": [
    "env = LuxAI_S2()\n",
    "SEED = 5\n",
    "obs = env.reset(seed=SEED)"
   ]
  },
  {
   "cell_type": "code",
   "execution_count": null,
   "metadata": {},
   "outputs": [],
   "source": [
    "logger.setLevel(logging.INFO)\n",
    "img = env.render(\"rgb_array\", width=640, height=640)\n",
    "f, ax = plt.subplots(figsize=(7, 7))\n",
    "ax.imshow(img);"
   ]
  },
  {
   "cell_type": "code",
   "execution_count": null,
   "metadata": {},
   "outputs": [],
   "source": [
    "# agent = ControlledAgent('player_0', env.state.env_cfg)"
   ]
  },
  {
   "cell_type": "code",
   "execution_count": null,
   "metadata": {},
   "outputs": [],
   "source": [
    "from robots import MapPlanner"
   ]
  },
  {
   "cell_type": "code",
   "execution_count": null,
   "metadata": {},
   "outputs": [],
   "source": [
    "from obs import CenteredObservation"
   ]
  },
  {
   "cell_type": "code",
   "execution_count": null,
   "metadata": {},
   "outputs": [],
   "source": [
    "logger.setLevel(logging.DEBUG)"
   ]
  },
  {
   "cell_type": "code",
   "execution_count": null,
   "metadata": {
    "execution": {
     "iopub.execute_input": "2023-01-24T19:44:47.928300Z",
     "iopub.status.busy": "2023-01-24T19:44:47.927887Z",
     "iopub.status.idle": "2023-01-24T19:44:52.501069Z",
     "shell.execute_reply": "2023-01-24T19:44:52.499615Z",
     "shell.execute_reply.started": "2023-01-24T19:44:47.928266Z"
    },
    "scrolled": false
   },
   "outputs": [],
   "source": [
    "logger.setLevel(logging.DEBUG)\n",
    "\n",
    "filename = str(uuid.uuid4()) + '.mp4'\n",
    "file_path = '/home/adrian_admin/prog/kaggle/lux-ai-2/Lux-Design-S2/data/experiments/adrian/'\n",
    "animate_arg = ''  # file_path + filename\n",
    "\n",
    "agents = {}\n",
    "for player, agent_constructor in zip(env.agents, [IdleAgent, ControlledAgent]):\n",
    "    logging.debug('player{} runs with class{}'.format(player, agent_constructor))\n",
    "    agents[player] = agent_constructor(player, env.state.env_cfg) \n",
    "    \n",
    "last_obs = interact(\n",
    "    env, \n",
    "    agents, \n",
    "    4, \n",
    "    animate_=animate_arg, \n",
    "    break_at_first_action=False, \n",
    "    debug=False, \n",
    "    custom_board=None,  #simple_board\n",
    "    seed=SEED\n",
    ")\n",
    "# print(last_obs)"
   ]
  },
  {
   "cell_type": "code",
   "execution_count": null,
   "metadata": {},
   "outputs": [],
   "source": [
    "cobs = CenteredObservation(last_obs['player_1'], 'player_1')\n",
    "cobs.my_player_name"
   ]
  },
  {
   "cell_type": "code",
   "execution_count": null,
   "metadata": {},
   "outputs": [],
   "source": [
    "# pprint(cobs.dict_obj)"
   ]
  },
  {
   "cell_type": "code",
   "execution_count": null,
   "metadata": {},
   "outputs": [],
   "source": [
    "planner = MapPlanner(cobs)"
   ]
  },
  {
   "cell_type": "code",
   "execution_count": null,
   "metadata": {},
   "outputs": [],
   "source": [
    "from plants import ConnCompMapSpawner"
   ]
  },
  {
   "cell_type": "code",
   "execution_count": null,
   "metadata": {},
   "outputs": [],
   "source": [
    "spawner = ConnCompMapSpawner(cobs, threshold=0, rad=30)"
   ]
  },
  {
   "cell_type": "code",
   "execution_count": null,
   "metadata": {},
   "outputs": [],
   "source": [
    "spawner.components"
   ]
  },
  {
   "cell_type": "code",
   "execution_count": null,
   "metadata": {},
   "outputs": [],
   "source": [
    "cobs.rubble_map.max()"
   ]
  },
  {
   "cell_type": "code",
   "execution_count": null,
   "metadata": {},
   "outputs": [],
   "source": [
    "from space import identify_conn_components"
   ]
  },
  {
   "cell_type": "code",
   "execution_count": null,
   "metadata": {},
   "outputs": [],
   "source": [
    "identify_conn_components(cobs.rubble_map)"
   ]
  },
  {
   "cell_type": "code",
   "execution_count": null,
   "metadata": {},
   "outputs": [],
   "source": []
  },
  {
   "cell_type": "code",
   "execution_count": null,
   "metadata": {},
   "outputs": [],
   "source": []
  },
  {
   "cell_type": "code",
   "execution_count": null,
   "metadata": {},
   "outputs": [],
   "source": []
  },
  {
   "cell_type": "code",
   "execution_count": null,
   "metadata": {},
   "outputs": [],
   "source": []
  },
  {
   "cell_type": "code",
   "execution_count": null,
   "metadata": {
    "scrolled": false
   },
   "outputs": [],
   "source": [
    "# Video(animate_arg, embed=True)"
   ]
  },
  {
   "cell_type": "code",
   "execution_count": null,
   "metadata": {
    "scrolled": false
   },
   "outputs": [],
   "source": [
    "#video above is missing bottom pixels for some reason \n",
    "logger.setLevel(logging.INFO)\n",
    "img = env.render(\"rgb_array\", width=640, height=640)\n",
    "f, ax = plt.subplots(figsize=(7, 7))\n",
    "ax.imshow(img);"
   ]
  },
  {
   "cell_type": "code",
   "execution_count": null,
   "metadata": {
    "scrolled": false
   },
   "outputs": [],
   "source": [
    "# logger.setLevel(logging.INFO)\n",
    "# plot_robot_stats(agents['player_1'].stats);"
   ]
  },
  {
   "cell_type": "code",
   "execution_count": null,
   "metadata": {
    "scrolled": false
   },
   "outputs": [],
   "source": [
    "# plot_factory_stats(agents['player_1'].stats);"
   ]
  },
  {
   "cell_type": "code",
   "execution_count": null,
   "metadata": {
    "scrolled": false
   },
   "outputs": [],
   "source": []
  }
 ],
 "metadata": {
  "kernelspec": {
   "display_name": "lux37",
   "language": "python",
   "name": "lux37"
  },
  "language_info": {
   "codemirror_mode": {
    "name": "ipython",
    "version": 3
   },
   "file_extension": ".py",
   "mimetype": "text/x-python",
   "name": "python",
   "nbconvert_exporter": "python",
   "pygments_lexer": "ipython3",
   "version": "3.7.16"
  },
  "vscode": {
   "interpreter": {
    "hash": "95c78092eaa97395644b547c35f355f36ca9b4a25bd2b7641e327063759a9b57"
   }
  }
 },
 "nbformat": 4,
 "nbformat_minor": 4
}
