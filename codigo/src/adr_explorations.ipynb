{
 "cells": [
  {
   "cell_type": "code",
   "execution_count": 1,
   "metadata": {
    "execution": {
     "iopub.execute_input": "2023-01-24T19:39:43.846990Z",
     "iopub.status.busy": "2023-01-24T19:39:43.846545Z",
     "iopub.status.idle": "2023-01-24T19:39:45.768603Z",
     "shell.execute_reply": "2023-01-24T19:39:45.767534Z",
     "shell.execute_reply.started": "2023-01-24T19:39:43.846946Z"
    }
   },
   "outputs": [],
   "source": [
    "from luxai_s2.env import LuxAI_S2\n",
    "from luxai_s2.map.board import Board\n",
    "# from luxai_s2.state import State\n",
    "from luxai_s2.map_generator.generator import GameMap\n",
    "# from collections import OrderedDict\n",
    "import matplotlib.pyplot as plt\n",
    "import matplotlib\n",
    "import logging\n",
    "import numpy as np\n",
    "# from lux.kit import obs_to_game_state, GameState, EnvConfig\n",
    "# from luxai_s2.utils import animate\n",
    "# from lux.utils import direction_to, \n",
    "from luxai_s2.utils import my_turn_to_place_factory\n",
    "\n",
    "\n",
    "# import cv2\n",
    "# import os\n",
    "# import string\n",
    "# import random\n",
    "from agents_experiments import (reset_w_custom_board, IdleAgent, interact)\n",
    "logger = logging.getLogger()\n",
    "logger.setLevel(logging.INFO)\n",
    "logging.debug(\"test\")\n",
    "matplotlib.rc('font', size=14)\n",
    "\n",
    "\n",
    "\n",
    "# needed for class below\n",
    "from luxai_s2.env import EnvConfig\n",
    "    \n",
    "class ControlledAgent:\n",
    "    factories: dict\n",
    "    actions: dict\n",
    "    calls_to_act: int = 0\n",
    "    \n",
    "    def __init__(self, player: str, env_cfg: EnvConfig) -> None:\n",
    "        self.player = player\n",
    "        self.opp_player = \"player_1\" if self.player == \"player_0\" else \"player_0\"\n",
    "        np.random.seed(0)\n",
    "        self.env_cfg: EnvConfig = env_cfg\n",
    "            \n",
    "    def early_setup(self, step: int, obs, remainingOverageTime: int = 60):\n",
    "        if step == 0:\n",
    "            return dict(faction=\"AlphaStrike\", bid=0)\n",
    "        else:\n",
    "            myteam = obs['teams'][self.player]\n",
    "\n",
    "            # how much water and metal you have in your starting pool to give to new factories\n",
    "            try:\n",
    "                water_left = myteam['water']\n",
    "            except AttributeError:\n",
    "                print(myteam)\n",
    "                raise \n",
    "            metal_left = myteam['metal']\n",
    "\n",
    "            # how many factories you have left to place\n",
    "            factories_to_place = myteam['factories_to_place']\n",
    "            \n",
    "            # whether it is your turn to place a factory\n",
    "            my_turn_to_place = my_turn_to_place_factory(myteam['place_first'], step)\n",
    "            \n",
    "            if factories_to_place > 0 and my_turn_to_place:\n",
    "                inner_list = list(zip(*np.where(obs[\"board\"][\"valid_spawns_mask\"] == 1)))\n",
    "                potential_spawns = np.array(inner_list)\n",
    "#                 logging.info(f'ControlledAgent {potential_spawns.shape=}')\n",
    "                \n",
    "#                 wish = {i: {(i, x) for x in range(39, 48)} for i in range(39, 48)}\n",
    "#                 for i in range(39, 48):\n",
    "#                     logging.info(f\"{wish[i].intersection(inner_list)=}\")\n",
    "                \n",
    "                selected_location_ix = 0\n",
    "                spawn_loc = potential_spawns[selected_location_ix]\n",
    "#                 logging.info(f'ControlledAgent {spawn_loc=}')\n",
    "                return dict(spawn=spawn_loc, metal=150, water=150)\n",
    "            return dict()\n",
    "\n",
    "\n",
    "    def act(self, step: int, obs, remainingOverageTime: int = 60):\n",
    "        self.calls_to_act += 1\n",
    "        actions = dict()\n",
    "        game_state: GameState = obs_to_game_state(step, self.env_cfg, obs)\n",
    "        factories = game_state.factories[self.player]\n",
    "        self.factories = factories\n",
    "        logger.info(f\"{type(factories)=}\")\n",
    "        logger.info(f\"{factories=}\")\n",
    "        for unit_id, factory in factories.items():\n",
    "            if factory.power >= self.env_cfg.ROBOTS[\"HEAVY\"].POWER_COST and \\\n",
    "            factory.cargo.metal >= self.env_cfg.ROBOTS[\"HEAVY\"].METAL_COST:\n",
    "                actions[unit_id] = factory.build_heavy()\n",
    "        self.actions = actions\n",
    "        return actions\n",
    "    \n",
    "    def debug_act(self, step: int, obs, remainingOverageTime: int = 60):\n",
    "        \n",
    "        # who am I?\n",
    "        logger.info(f'I am {self.player}')\n",
    "        \n",
    "        # what turn is it?\n",
    "        logger.info(f'{step=}  {remainingOverageTime=}')\n",
    "        \n",
    "        self.calls_to_act += 1\n",
    "        actions = dict()\n",
    "        \n",
    "        # how many factories does each player have, and where?\n",
    "        def count_and_locate_factories(fac):\n",
    "            count = len(fac)\n",
    "            locations = list(v['pos'] for v in fac.values())\n",
    "            return count, locations\n",
    "#         print(obs)\n",
    "#         raise ValueError(\"STOPPING ON PURPOSE\")\n",
    "        myteam_ = obs['factories'][self.player]\n",
    "        opp_team_ = obs['factories'][self.opp_player]\n",
    "        try:\n",
    "            my_factories = count_and_locate_factories(myteam_)\n",
    "            logger.info(f'{my_factories=}')\n",
    "        except KeyError:\n",
    "            logger.info('no factories found in controlled agent\\'s team')\n",
    "            \n",
    "        try:\n",
    "            opponents_factories =count_and_locate_factories(opp_team_)\n",
    "            logger.info(f'{opponents_factories=}')\n",
    "        except KeyError:\n",
    "            logger.info('no factories found in opponent agent\\'s team')\n",
    "            \n",
    "        \n",
    "        # where are ice and ore?\n",
    "        logger.info('where are ice and ore?')\n",
    "        \n",
    "        factories = obs['factories'][self.player]\n",
    "        self.factories = factories\n",
    "        \n",
    "#         logger.info(f\"{type(factories)=}\")\n",
    "#         logger.info(f\"{factories=}\")\n",
    "        for unit_id, factory in factories.items():\n",
    "            if factory['power'] >= self.env_cfg.ROBOTS[\"HEAVY\"].POWER_COST and \\\n",
    "            factory['cargo']['metal'] >= self.env_cfg.ROBOTS[\"HEAVY\"].METAL_COST:\n",
    "                try:\n",
    "                    actions[unit_id] = 1  # build heavy\n",
    "                except AttributeError:\n",
    "                    print(obs)\n",
    "                    raise\n",
    "        self.actions = actions\n",
    "        \n",
    "        # what were my returned actions?\n",
    "        logger.info(f'{actions=}')\n",
    "        return actions"
   ]
  },
  {
   "cell_type": "code",
   "execution_count": 2,
   "metadata": {
    "execution": {
     "iopub.execute_input": "2023-01-24T19:39:46.052351Z",
     "iopub.status.busy": "2023-01-24T19:39:46.051205Z",
     "iopub.status.idle": "2023-01-24T19:39:46.068702Z",
     "shell.execute_reply": "2023-01-24T19:39:46.067580Z",
     "shell.execute_reply.started": "2023-01-24T19:39:46.052316Z"
    }
   },
   "outputs": [],
   "source": [
    "# key-values of dict below should match attributes present in this class\n",
    "# https://github.com/aernesto/Lux-Design-S2/blob/adrian/luxai_s2/luxai_s2/config.py#L34\n",
    "environment_config = dict(\n",
    "        max_episode_length=350,  # how many total turns in game\n",
    "        CYCLE_LENGTH=50,\n",
    "        DAY_LENGTH=50,  # so no night\n",
    "        MAX_RUBBLE=0,  # disable rubble   \n",
    "        MIN_FACTORIES=2,  \n",
    "        MAX_FACTORIES=2\n",
    "    )\n",
    "env = LuxAI_S2(**environment_config)\n",
    "custom_rubble = np.zeros((env.env_cfg.map_size,) * 2, dtype=np.int64)\n",
    "\n",
    "# Let's put a single ice at 30,30\n",
    "custom_ice = np.zeros_like(custom_rubble)\n",
    "custom_ice[30, 30] = 1\n",
    "\n",
    "# Let's put a single ore at 21, 21\n",
    "custom_ore = np.zeros_like(custom_rubble)\n",
    "custom_ore[21, 21] = 1\n",
    "\n",
    "custom_symmetry = None\n",
    "\n",
    "\n",
    "custom_map_ = GameMap(custom_rubble, custom_ice, custom_ore, custom_symmetry)\n",
    "\n",
    "simple_board = Board(\n",
    "    seed=env.seed_rng.randint(0, 2**32 - 1, dtype=np.int64), \n",
    "    env_cfg=env.env_cfg,\n",
    "    existing_map=custom_map_\n",
    ")\n",
    "\n",
    "obs, env = reset_w_custom_board(env, seed=41, custom_board=simple_board)\n",
    "    \n",
    "# source code of reset() method: \n",
    "# https://github.com/aernesto/Lux-Design-S2/blob/adrian/luxai_s2/luxai_s2/env.py#L175\n",
    "# obs = env.reset(seed=41) # resets an environment with a seed"
   ]
  },
  {
   "cell_type": "code",
   "execution_count": 3,
   "metadata": {},
   "outputs": [
    {
     "data": {
      "text/plain": [
       "2098"
      ]
     },
     "execution_count": 3,
     "metadata": {},
     "output_type": "execute_result"
    }
   ],
   "source": [
    "# first player cannot place factory on any boundary, so inner square has dimensions 46x46\n",
    "# the 2 isolated resources remove each 9 tiles from the potential spawn locations\n",
    "46*46- 9*2"
   ]
  },
  {
   "cell_type": "code",
   "execution_count": 4,
   "metadata": {},
   "outputs": [
    {
     "data": {
      "text/plain": [
       "2070"
      ]
     },
     "execution_count": 4,
     "metadata": {},
     "output_type": "execute_result"
    }
   ],
   "source": [
    "2098 -28"
   ]
  },
  {
   "cell_type": "code",
   "execution_count": 5,
   "metadata": {
    "execution": {
     "iopub.execute_input": "2023-01-24T19:43:20.020710Z",
     "iopub.status.busy": "2023-01-24T19:43:20.020210Z",
     "iopub.status.idle": "2023-01-24T19:43:22.001899Z",
     "shell.execute_reply": "2023-01-24T19:43:22.000148Z",
     "shell.execute_reply.started": "2023-01-24T19:43:20.020674Z"
    },
    "scrolled": true
   },
   "outputs": [],
   "source": [
    "# recreate our agents and run\n",
    "agents = {}\n",
    "for player, agent_constructor in zip(env.agents, [IdleAgent, ControlledAgent]):\n",
    "    logging.debug(player)\n",
    "    agents[player] = agent_constructor(player, env.state.env_cfg) \n",
    "last_obs = interact(env, agents, 3, animate_=False, custom_board=simple_board)\n",
    "# last_obs"
   ]
  },
  {
   "cell_type": "code",
   "execution_count": 6,
   "metadata": {},
   "outputs": [
    {
     "data": {
      "image/png": "[encoded data removed]",
      "text/plain": [
       "<Figure size 700x700 with 1 Axes>"
      ]
     },
     "metadata": {},
     "output_type": "display_data"
    }
   ],
   "source": [
    "#video above is missing bottom pixels for some reason \n",
    "img = env.render(\"rgb_array\", width=640, height=640)\n",
    "f, ax = plt.subplots(figsize=(7, 7))\n",
    "ax.imshow(img);"
   ]
  },
  {
   "cell_type": "code",
   "execution_count": 7,
   "metadata": {
    "execution": {
     "iopub.execute_input": "2023-01-24T19:44:47.928300Z",
     "iopub.status.busy": "2023-01-24T19:44:47.927887Z",
     "iopub.status.idle": "2023-01-24T19:44:52.501069Z",
     "shell.execute_reply": "2023-01-24T19:44:52.499615Z",
     "shell.execute_reply.started": "2023-01-24T19:44:47.928266Z"
    }
   },
   "outputs": [
    {
     "name": "stderr",
     "output_type": "stream",
     "text": [
      "INFO:root:step=1\n",
      "INFO:root:step=2\n",
      "INFO:root:step=3\n",
      "INFO:root:step=4\n",
      "INFO:root:step=5\n",
      "INFO:root:step=5  inner_counter=0\n",
      "INFO:root:I am player_1\n",
      "INFO:root:step=5  remainingOverageTime=60\n",
      "INFO:root:my_factories=(2, [array([1, 8]), array([ 1, 15])])\n",
      "INFO:root:opponents_factories=(2, [array([46, 39]), array([46, 32])])\n",
      "INFO:root:where are ice and ore?\n",
      "INFO:root:actions={'factory_1': 1, 'factory_3': 1}\n",
      "INFO:root:step=5  inner_counter=0\n",
      "INFO:root:step=6  inner_counter=1\n",
      "INFO:root:I am player_1\n",
      "INFO:root:step=6  remainingOverageTime=60\n",
      "INFO:root:my_factories=(2, [array([1, 8]), array([ 1, 15])])\n",
      "INFO:root:opponents_factories=(2, [array([46, 39]), array([46, 32])])\n",
      "INFO:root:where are ice and ore?\n",
      "INFO:root:actions={}\n",
      "INFO:root:step=6  inner_counter=1\n"
     ]
    }
   ],
   "source": [
    "for player, agent_constructor in zip(env.agents, [IdleAgent, ControlledAgent]):\n",
    "    logging.debug(player)\n",
    "    agents[player] = agent_constructor(player, env.state.env_cfg) \n",
    "last_obs = interact(\n",
    "    env, agents, 15, animate_=False, break_at_first_action=True, debug=True, custom_board=simple_board\n",
    ")\n",
    "# print(last_obs)"
   ]
  },
  {
   "cell_type": "code",
   "execution_count": 8,
   "metadata": {},
   "outputs": [
    {
     "data": {
      "image/png": "[encoded data removed]",
      "text/plain": [
       "<Figure size 700x700 with 1 Axes>"
      ]
     },
     "metadata": {},
     "output_type": "display_data"
    }
   ],
   "source": [
    "#video above is missing bottom pixels for some reason \n",
    "img = env.render(\"rgb_array\", width=640, height=640)\n",
    "f, ax = plt.subplots(figsize=(7, 7))\n",
    "ax.imshow(img);"
   ]
  },
  {
   "cell_type": "code",
   "execution_count": 9,
   "metadata": {},
   "outputs": [
    {
     "data": {
      "text/plain": [
       "{'factory_1': {'pos': array([1, 8]),\n",
       "  'power': 550,\n",
       "  'cargo': {'ice': 0, 'ore': 0, 'water': 149, 'metal': 50},\n",
       "  'unit_id': 'factory_1',\n",
       "  'strain_id': 1,\n",
       "  'team_id': 1},\n",
       " 'factory_3': {'pos': array([ 1, 15]),\n",
       "  'power': 550,\n",
       "  'cargo': {'ice': 0, 'ore': 0, 'water': 149, 'metal': 50},\n",
       "  'unit_id': 'factory_3',\n",
       "  'strain_id': 3,\n",
       "  'team_id': 1}}"
      ]
     },
     "execution_count": 9,
     "metadata": {},
     "output_type": "execute_result"
    }
   ],
   "source": [
    "agents['player_1'].factories"
   ]
  },
  {
   "cell_type": "code",
   "execution_count": 10,
   "metadata": {},
   "outputs": [
    {
     "data": {
      "text/plain": [
       "{}"
      ]
     },
     "execution_count": 10,
     "metadata": {},
     "output_type": "execute_result"
    }
   ],
   "source": [
    "agents['player_1'].actions"
   ]
  },
  {
   "cell_type": "code",
   "execution_count": 11,
   "metadata": {},
   "outputs": [
    {
     "data": {
      "text/plain": [
       "2"
      ]
     },
     "execution_count": 11,
     "metadata": {},
     "output_type": "execute_result"
    }
   ],
   "source": [
    "agents['player_1'].calls_to_act"
   ]
  },
  {
   "cell_type": "markdown",
   "metadata": {},
   "source": [
    "Inspect last_obs"
   ]
  },
  {
   "cell_type": "code",
   "execution_count": 12,
   "metadata": {},
   "outputs": [],
   "source": [
    "def parse_deep_dict(d):\n",
    "    copy = {}\n",
    "    for k, v in d.items():\n",
    "        if isinstance(v, dict):\n",
    "            copy[k] = parse_deep_dict(v)\n",
    "        else:\n",
    "            copy[k] = type(v)\n",
    "            \n",
    "    return copy"
   ]
  },
  {
   "cell_type": "code",
   "execution_count": 13,
   "metadata": {},
   "outputs": [],
   "source": [
    "a = {\n",
    "    1: {'a': 'b'},\n",
    "    2: [3, 4],\n",
    "    3: {5: {89: 'lskjdf', 'lskjf': 'alphabet'}, 4: [392423, 2]}\n",
    "}"
   ]
  },
  {
   "cell_type": "code",
   "execution_count": 14,
   "metadata": {},
   "outputs": [
    {
     "name": "stdout",
     "output_type": "stream",
     "text": [
      "Pretty printing has been turned OFF\n"
     ]
    }
   ],
   "source": [
    "pprint(parse_deep_dict(a))"
   ]
  },
  {
   "cell_type": "code",
   "execution_count": 15,
   "metadata": {
    "scrolled": true
   },
   "outputs": [],
   "source": [
    "from pprint import pprint"
   ]
  },
  {
   "cell_type": "code",
   "execution_count": 16,
   "metadata": {},
   "outputs": [
    {
     "name": "stdout",
     "output_type": "stream",
     "text": [
      "{'player_0': {'board': {'factories_per_team': <class 'int'>,\n",
      "                        'ice': <class 'numpy.ndarray'>,\n",
      "                        'lichen': <class 'numpy.ndarray'>,\n",
      "                        'lichen_strains': <class 'numpy.ndarray'>,\n",
      "                        'ore': <class 'numpy.ndarray'>,\n",
      "                        'rubble': <class 'numpy.ndarray'>,\n",
      "                        'valid_spawns_mask': <class 'numpy.ndarray'>},\n",
      "              'factories': {'player_0': {'factory_0': {'cargo': {'ice': <class 'int'>,\n",
      "                                                                 'metal': <class 'int'>,\n",
      "                                                                 'ore': <class 'int'>,\n",
      "                                                                 'water': <class 'int'>},\n",
      "                                                       'pos': <class 'numpy.ndarray'>,\n",
      "                                                       'power': <class 'int'>,\n",
      "                                                       'strain_id': <class 'int'>,\n",
      "                                                       'team_id': <class 'int'>,\n",
      "                                                       'unit_id': <class 'str'>},\n",
      "                                         'factory_2': {'cargo': {'ice': <class 'int'>,\n",
      "                                                                 'metal': <class 'int'>,\n",
      "                                                                 'ore': <class 'int'>,\n",
      "                                                                 'water': <class 'int'>},\n",
      "                                                       'pos': <class 'numpy.ndarray'>,\n",
      "                                                       'power': <class 'int'>,\n",
      "                                                       'strain_id': <class 'int'>,\n",
      "                                                       'team_id': <class 'int'>,\n",
      "                                                       'unit_id': <class 'str'>}},\n",
      "                            'player_1': {'factory_1': {'cargo': {'ice': <class 'int'>,\n",
      "                                                                 'metal': <class 'int'>,\n",
      "                                                                 'ore': <class 'int'>,\n",
      "                                                                 'water': <class 'int'>},\n",
      "                                                       'pos': <class 'numpy.ndarray'>,\n",
      "                                                       'power': <class 'int'>,\n",
      "                                                       'strain_id': <class 'int'>,\n",
      "                                                       'team_id': <class 'int'>,\n",
      "                                                       'unit_id': <class 'str'>},\n",
      "                                         'factory_3': {'cargo': {'ice': <class 'int'>,\n",
      "                                                                 'metal': <class 'int'>,\n",
      "                                                                 'ore': <class 'int'>,\n",
      "                                                                 'water': <class 'int'>},\n",
      "                                                       'pos': <class 'numpy.ndarray'>,\n",
      "                                                       'power': <class 'int'>,\n",
      "                                                       'strain_id': <class 'int'>,\n",
      "                                                       'team_id': <class 'int'>,\n",
      "                                                       'unit_id': <class 'str'>}}},\n",
      "              'global_id': <class 'int'>,\n",
      "              'real_env_steps': <class 'int'>,\n",
      "              'teams': {'player_0': {'bid': <class 'int'>,\n",
      "                                     'faction': <class 'str'>,\n",
      "                                     'factories_to_place': <class 'int'>,\n",
      "                                     'factory_strains': <class 'list'>,\n",
      "                                     'metal': <class 'int'>,\n",
      "                                     'place_first': <class 'bool'>,\n",
      "                                     'team_id': <class 'int'>,\n",
      "                                     'water': <class 'int'>},\n",
      "                        'player_1': {'bid': <class 'int'>,\n",
      "                                     'faction': <class 'str'>,\n",
      "                                     'factories_to_place': <class 'int'>,\n",
      "                                     'factory_strains': <class 'list'>,\n",
      "                                     'metal': <class 'int'>,\n",
      "                                     'place_first': <class 'bool'>,\n",
      "                                     'team_id': <class 'int'>,\n",
      "                                     'water': <class 'int'>}},\n",
      "              'units': {'player_0': {},\n",
      "                        'player_1': {'unit_4': {'action_queue': <class 'list'>,\n",
      "                                                'cargo': {'ice': <class 'int'>,\n",
      "                                                          'metal': <class 'int'>,\n",
      "                                                          'ore': <class 'int'>,\n",
      "                                                          'water': <class 'int'>},\n",
      "                                                'pos': <class 'numpy.ndarray'>,\n",
      "                                                'power': <class 'int'>,\n",
      "                                                'team_id': <class 'int'>,\n",
      "                                                'unit_id': <class 'str'>,\n",
      "                                                'unit_type': <class 'str'>},\n",
      "                                     'unit_5': {'action_queue': <class 'list'>,\n",
      "                                                'cargo': {'ice': <class 'int'>,\n",
      "                                                          'metal': <class 'int'>,\n",
      "                                                          'ore': <class 'int'>,\n",
      "                                                          'water': <class 'int'>},\n",
      "                                                'pos': <class 'numpy.ndarray'>,\n",
      "                                                'power': <class 'int'>,\n",
      "                                                'team_id': <class 'int'>,\n",
      "                                                'unit_id': <class 'str'>,\n",
      "                                                'unit_type': <class 'str'>}}}},\n",
      " 'player_1': {'board': {'factories_per_team': <class 'int'>,\n",
      "                        'ice': <class 'numpy.ndarray'>,\n",
      "                        'lichen': <class 'numpy.ndarray'>,\n",
      "                        'lichen_strains': <class 'numpy.ndarray'>,\n",
      "                        'ore': <class 'numpy.ndarray'>,\n",
      "                        'rubble': <class 'numpy.ndarray'>,\n",
      "                        'valid_spawns_mask': <class 'numpy.ndarray'>},\n",
      "              'factories': {'player_0': {'factory_0': {'cargo': {'ice': <class 'int'>,\n",
      "                                                                 'metal': <class 'int'>,\n",
      "                                                                 'ore': <class 'int'>,\n",
      "                                                                 'water': <class 'int'>},\n",
      "                                                       'pos': <class 'numpy.ndarray'>,\n",
      "                                                       'power': <class 'int'>,\n",
      "                                                       'strain_id': <class 'int'>,\n",
      "                                                       'team_id': <class 'int'>,\n",
      "                                                       'unit_id': <class 'str'>},\n",
      "                                         'factory_2': {'cargo': {'ice': <class 'int'>,\n",
      "                                                                 'metal': <class 'int'>,\n",
      "                                                                 'ore': <class 'int'>,\n",
      "                                                                 'water': <class 'int'>},\n",
      "                                                       'pos': <class 'numpy.ndarray'>,\n",
      "                                                       'power': <class 'int'>,\n",
      "                                                       'strain_id': <class 'int'>,\n",
      "                                                       'team_id': <class 'int'>,\n",
      "                                                       'unit_id': <class 'str'>}},\n",
      "                            'player_1': {'factory_1': {'cargo': {'ice': <class 'int'>,\n",
      "                                                                 'metal': <class 'int'>,\n",
      "                                                                 'ore': <class 'int'>,\n",
      "                                                                 'water': <class 'int'>},\n",
      "                                                       'pos': <class 'numpy.ndarray'>,\n",
      "                                                       'power': <class 'int'>,\n",
      "                                                       'strain_id': <class 'int'>,\n",
      "                                                       'team_id': <class 'int'>,\n",
      "                                                       'unit_id': <class 'str'>},\n",
      "                                         'factory_3': {'cargo': {'ice': <class 'int'>,\n",
      "                                                                 'metal': <class 'int'>,\n",
      "                                                                 'ore': <class 'int'>,\n",
      "                                                                 'water': <class 'int'>},\n",
      "                                                       'pos': <class 'numpy.ndarray'>,\n",
      "                                                       'power': <class 'int'>,\n",
      "                                                       'strain_id': <class 'int'>,\n",
      "                                                       'team_id': <class 'int'>,\n",
      "                                                       'unit_id': <class 'str'>}}},\n",
      "              'global_id': <class 'int'>,\n",
      "              'real_env_steps': <class 'int'>,\n",
      "              'teams': {'player_0': {'bid': <class 'int'>,\n",
      "                                     'faction': <class 'str'>,\n",
      "                                     'factories_to_place': <class 'int'>,\n",
      "                                     'factory_strains': <class 'list'>,\n",
      "                                     'metal': <class 'int'>,\n",
      "                                     'place_first': <class 'bool'>,\n",
      "                                     'team_id': <class 'int'>,\n",
      "                                     'water': <class 'int'>},\n",
      "                        'player_1': {'bid': <class 'int'>,\n",
      "                                     'faction': <class 'str'>,\n",
      "                                     'factories_to_place': <class 'int'>,\n",
      "                                     'factory_strains': <class 'list'>,\n",
      "                                     'metal': <class 'int'>,\n",
      "                                     'place_first': <class 'bool'>,\n",
      "                                     'team_id': <class 'int'>,\n",
      "                                     'water': <class 'int'>}},\n",
      "              'units': {'player_0': {},\n",
      "                        'player_1': {'unit_4': {'action_queue': <class 'list'>,\n",
      "                                                'cargo': {'ice': <class 'int'>,\n",
      "                                                          'metal': <class 'int'>,\n",
      "                                                          'ore': <class 'int'>,\n",
      "                                                          'water': <class 'int'>},\n",
      "                                                'pos': <class 'numpy.ndarray'>,\n",
      "                                                'power': <class 'int'>,\n",
      "                                                'team_id': <class 'int'>,\n",
      "                                                'unit_id': <class 'str'>,\n",
      "                                                'unit_type': <class 'str'>},\n",
      "                                     'unit_5': {'action_queue': <class 'list'>,\n",
      "                                                'cargo': {'ice': <class 'int'>,\n",
      "                                                          'metal': <class 'int'>,\n",
      "                                                          'ore': <class 'int'>,\n",
      "                                                          'water': <class 'int'>},\n",
      "                                                'pos': <class 'numpy.ndarray'>,\n",
      "                                                'power': <class 'int'>,\n",
      "                                                'team_id': <class 'int'>,\n",
      "                                                'unit_id': <class 'str'>,\n",
      "                                                'unit_type': <class 'str'>}}}}}\n"
     ]
    }
   ],
   "source": [
    "parsed = parse_deep_dict(last_obs)\n",
    "pprint(parsed)"
   ]
  }
 ],
 "metadata": {
  "kernelspec": {
   "display_name": "lux310",
   "language": "python",
   "name": "lux310"
  },
  "language_info": {
   "codemirror_mode": {
    "name": "ipython",
    "version": 3
   },
   "file_extension": ".py",
   "mimetype": "text/x-python",
   "name": "python",
   "nbconvert_exporter": "python",
   "pygments_lexer": "ipython3",
   "version": "3.10.9"
  },
  "vscode": {
   "interpreter": {
    "hash": "95c78092eaa97395644b547c35f355f36ca9b4a25bd2b7641e327063759a9b57"
   }
  }
 },
 "nbformat": 4,
 "nbformat_minor": 4
}
