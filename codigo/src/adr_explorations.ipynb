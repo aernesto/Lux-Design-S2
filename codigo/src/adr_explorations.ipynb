{
 "cells": [
  {
   "cell_type": "code",
   "execution_count": 1,
   "metadata": {
    "execution": {
     "iopub.execute_input": "2023-01-24T19:39:43.846990Z",
     "iopub.status.busy": "2023-01-24T19:39:43.846545Z",
     "iopub.status.idle": "2023-01-24T19:39:45.768603Z",
     "shell.execute_reply": "2023-01-24T19:39:45.767534Z",
     "shell.execute_reply.started": "2023-01-24T19:39:43.846946Z"
    }
   },
   "outputs": [],
   "source": [
    "from luxai_s2.env import LuxAI_S2\n",
    "from luxai_s2.map.board import Board\n",
    "from luxai_s2.map_generator.generator import GameMap\n",
    "import matplotlib.pyplot as plt\n",
    "import matplotlib\n",
    "import logging\n",
    "import numpy as np\n",
    "from luxai_s2.utils import my_turn_to_place_factory\n",
    "from agents_experiments import (reset_w_custom_board, IdleAgent, ControlledAgent, interact)\n",
    "import uuid\n",
    "\n",
    "\n",
    "logger = logging.getLogger()\n",
    "logger.setLevel(logging.DEBUG)\n",
    "\n",
    "matplotlib.rc('font', size=14)\n"
   ]
  },
  {
   "cell_type": "code",
   "execution_count": 2,
   "metadata": {
    "execution": {
     "iopub.execute_input": "2023-01-24T19:39:46.052351Z",
     "iopub.status.busy": "2023-01-24T19:39:46.051205Z",
     "iopub.status.idle": "2023-01-24T19:39:46.068702Z",
     "shell.execute_reply": "2023-01-24T19:39:46.067580Z",
     "shell.execute_reply.started": "2023-01-24T19:39:46.052316Z"
    }
   },
   "outputs": [],
   "source": [
    "# key-values of dict below should match attributes present in this class\n",
    "# https://github.com/aernesto/Lux-Design-S2/blob/adrian/luxai_s2/luxai_s2/config.py#L34\n",
    "environment_config = dict(\n",
    "#         max_episode_length=350,  # how many total turns in game\n",
    "#         CYCLE_LENGTH=50,\n",
    "#         DAY_LENGTH=50,  # so no night\n",
    "        MAX_RUBBLE=0,  # disable rubble   \n",
    "        MIN_FACTORIES=2,  \n",
    "        MAX_FACTORIES=2\n",
    "    )\n",
    "env = LuxAI_S2(**environment_config)\n",
    "custom_rubble = np.zeros((env.env_cfg.map_size,) * 2, dtype=np.int64)\n",
    "\n",
    "# Let's put a single ice at 30,30\n",
    "custom_ice = np.zeros_like(custom_rubble)\n",
    "custom_ice[30, 30] = 1\n",
    "\n",
    "# Let's put a single ore at 21, 21\n",
    "custom_ore = np.zeros_like(custom_rubble)\n",
    "custom_ore[21, 21] = 1\n",
    "\n",
    "custom_symmetry = None\n",
    "\n",
    "\n",
    "custom_map_ = GameMap(custom_rubble, custom_ice, custom_ore, custom_symmetry)\n",
    "\n",
    "simple_board = Board(\n",
    "    seed=env.seed_rng.randint(0, 2**32 - 1, dtype=np.int64), \n",
    "    env_cfg=env.env_cfg,\n",
    "    existing_map=custom_map_\n",
    ")\n",
    "\n",
    "obs, env = reset_w_custom_board(env, seed=41, custom_board=simple_board)\n",
    "    \n",
    "# source code of reset() method: \n",
    "# https://github.com/aernesto/Lux-Design-S2/blob/adrian/luxai_s2/luxai_s2/env.py#L175\n",
    "# obs = env.reset(seed=41) # resets an environment with a seed"
   ]
  },
  {
   "cell_type": "code",
   "execution_count": 3,
   "metadata": {},
   "outputs": [
    {
     "data": {
      "text/plain": [
       "2098"
      ]
     },
     "execution_count": 3,
     "metadata": {},
     "output_type": "execute_result"
    }
   ],
   "source": [
    "# first player cannot place factory on any boundary, so inner square has dimensions 46x46\n",
    "# the 2 isolated resources remove each 9 tiles from the potential spawn locations\n",
    "46*46- 9*2"
   ]
  },
  {
   "cell_type": "code",
   "execution_count": 4,
   "metadata": {},
   "outputs": [
    {
     "data": {
      "text/plain": [
       "2070"
      ]
     },
     "execution_count": 4,
     "metadata": {},
     "output_type": "execute_result"
    }
   ],
   "source": [
    "2098 -28"
   ]
  },
  {
   "cell_type": "code",
   "execution_count": 5,
   "metadata": {
    "execution": {
     "iopub.execute_input": "2023-01-24T19:44:47.928300Z",
     "iopub.status.busy": "2023-01-24T19:44:47.927887Z",
     "iopub.status.idle": "2023-01-24T19:44:52.501069Z",
     "shell.execute_reply": "2023-01-24T19:44:52.499615Z",
     "shell.execute_reply.started": "2023-01-24T19:44:47.928266Z"
    },
    "scrolled": false
   },
   "outputs": [
    {
     "name": "stderr",
     "output_type": "stream",
     "text": [
      "DEBUG:root:player_0\n",
      "DEBUG:root:player_1\n",
      "INFO:root:writing /home/adrian_admin/prog/kaggle/lux-ai-2/Lux-Design-S2/data/experiments/adrian/df28a5ae-56ff-460c-a1f1-5b1943bd1e8b.mp4\n"
     ]
    }
   ],
   "source": [
    "logger.setLevel(logging.DEBUG)\n",
    "\n",
    "filename = str(uuid.uuid4()) + '.mp4'\n",
    "file_path = '/home/adrian_admin/prog/kaggle/lux-ai-2/Lux-Design-S2/data/experiments/adrian/'\n",
    "\n",
    "agents = {}\n",
    "for player, agent_constructor in zip(env.agents, [IdleAgent, ControlledAgent]):\n",
    "    logging.debug(player)\n",
    "    agents[player] = agent_constructor(player, env.state.env_cfg) \n",
    "\n",
    "    \n",
    "_ = interact(\n",
    "    env, \n",
    "    agents, \n",
    "    30, \n",
    "    animate_=file_path + filename, \n",
    "    break_at_first_action=False, \n",
    "    debug=False, \n",
    "    custom_board=simple_board\n",
    ")\n",
    "# print(last_obs)"
   ]
  },
  {
   "cell_type": "code",
   "execution_count": 6,
   "metadata": {},
   "outputs": [],
   "source": [
    "from IPython.display import Video"
   ]
  },
  {
   "cell_type": "code",
   "execution_count": 7,
   "metadata": {},
   "outputs": [
    {
     "data": {
      "text/html": [
       "<video controls  >\n",
       " <source src=\"data:video/mp4;base64,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\" type=\"video/mp4\">\n",
       " Your browser does not support the video tag.\n",
       " </video>"
      ],
      "text/plain": [
       "<IPython.core.display.Video object>"
      ]
     },
     "execution_count": 7,
     "metadata": {},
     "output_type": "execute_result"
    }
   ],
   "source": [
    "Video(file_path + filename, embed=True)"
   ]
  },
  {
   "cell_type": "code",
   "execution_count": 9,
   "metadata": {},
   "outputs": [
    {
     "data": {
      "image/png": "[encoded data removed]",
      "text/plain": [
       "<Figure size 700x700 with 1 Axes>"
      ]
     },
     "metadata": {},
     "output_type": "display_data"
    }
   ],
   "source": [
    "#video above is missing bottom pixels for some reason \n",
    "logger.setLevel(logging.INFO)\n",
    "img = env.render(\"rgb_array\", width=640, height=640)\n",
    "f, ax = plt.subplots(figsize=(7, 7))\n",
    "ax.imshow(img);"
   ]
  },
  {
   "cell_type": "code",
   "execution_count": 11,
   "metadata": {},
   "outputs": [
    {
     "data": {
      "text/plain": [
       "[{'factories_total': {'ice': 0,\n",
       "   'metal': 0,\n",
       "   'ore': 0,\n",
       "   'water': 0,\n",
       "   'number': 0,\n",
       "   'power': 0.0}},\n",
       " {'factories_total': {'ice': 0,\n",
       "   'metal': 0,\n",
       "   'ore': 0,\n",
       "   'water': 0,\n",
       "   'number': 0,\n",
       "   'power': 0.0}},\n",
       " {'factories_total': {'ice': 0,\n",
       "   'ore': 0,\n",
       "   'water': 150,\n",
       "   'metal': 150,\n",
       "   'number': 1,\n",
       "   'power': 1000.0}},\n",
       " {'factories_total': {'ice': 0,\n",
       "   'ore': 0,\n",
       "   'water': 150,\n",
       "   'metal': 150,\n",
       "   'number': 1,\n",
       "   'power': 1000.0}},\n",
       " {'factories_total': {'ice': 0,\n",
       "   'ore': 0,\n",
       "   'water': 300,\n",
       "   'metal': 300,\n",
       "   'number': 2,\n",
       "   'power': 2000.0}},\n",
       " {'factories_total': {'ice': 0,\n",
       "   'ore': 0,\n",
       "   'water': 298,\n",
       "   'metal': 100,\n",
       "   'number': 2,\n",
       "   'power': 1100.0}},\n",
       " {'factories_total': {'ice': 0,\n",
       "   'ore': 0,\n",
       "   'water': 294,\n",
       "   'metal': 100,\n",
       "   'number': 2,\n",
       "   'power': 1200.0}},\n",
       " {'factories_total': {'ice': 0,\n",
       "   'ore': 0,\n",
       "   'water': 290,\n",
       "   'metal': 100,\n",
       "   'number': 2,\n",
       "   'power': 1315.0}},\n",
       " {'factories_total': {'ice': 0,\n",
       "   'ore': 0,\n",
       "   'water': 286,\n",
       "   'metal': 100,\n",
       "   'number': 2,\n",
       "   'power': 1430.0}},\n",
       " {'factories_total': {'ice': 0,\n",
       "   'ore': 0,\n",
       "   'water': 282,\n",
       "   'metal': 100,\n",
       "   'number': 2,\n",
       "   'power': 1545.0}},\n",
       " {'factories_total': {'ice': 0,\n",
       "   'ore': 0,\n",
       "   'water': 278,\n",
       "   'metal': 100,\n",
       "   'number': 2,\n",
       "   'power': 1660.0}},\n",
       " {'factories_total': {'ice': 0,\n",
       "   'ore': 0,\n",
       "   'water': 274,\n",
       "   'metal': 100,\n",
       "   'number': 2,\n",
       "   'power': 1775.0}},\n",
       " {'factories_total': {'ice': 0,\n",
       "   'ore': 0,\n",
       "   'water': 270,\n",
       "   'metal': 100,\n",
       "   'number': 2,\n",
       "   'power': 1890.0}},\n",
       " {'factories_total': {'ice': 0,\n",
       "   'ore': 0,\n",
       "   'water': 266,\n",
       "   'metal': 100,\n",
       "   'number': 2,\n",
       "   'power': 2005.0}},\n",
       " {'factories_total': {'ice': 0,\n",
       "   'ore': 0,\n",
       "   'water': 262,\n",
       "   'metal': 100,\n",
       "   'number': 2,\n",
       "   'power': 2120.0}},\n",
       " {'factories_total': {'ice': 0,\n",
       "   'ore': 0,\n",
       "   'water': 258,\n",
       "   'metal': 100,\n",
       "   'number': 2,\n",
       "   'power': 2235.0}},\n",
       " {'factories_total': {'ice': 0,\n",
       "   'ore': 0,\n",
       "   'water': 254,\n",
       "   'metal': 100,\n",
       "   'number': 2,\n",
       "   'power': 2350.0}},\n",
       " {'factories_total': {'ice': 0,\n",
       "   'ore': 0,\n",
       "   'water': 250,\n",
       "   'metal': 100,\n",
       "   'number': 2,\n",
       "   'power': 2465.0}},\n",
       " {'factories_total': {'ice': 0,\n",
       "   'ore': 0,\n",
       "   'water': 246,\n",
       "   'metal': 100,\n",
       "   'number': 2,\n",
       "   'power': 2580.0}},\n",
       " {'factories_total': {'ice': 0,\n",
       "   'ore': 0,\n",
       "   'water': 242,\n",
       "   'metal': 100,\n",
       "   'number': 2,\n",
       "   'power': 2695.0}},\n",
       " {'factories_total': {'ice': 0,\n",
       "   'ore': 0,\n",
       "   'water': 238,\n",
       "   'metal': 100,\n",
       "   'number': 2,\n",
       "   'power': 2810.0}},\n",
       " {'factories_total': {'ice': 0,\n",
       "   'ore': 0,\n",
       "   'water': 234,\n",
       "   'metal': 100,\n",
       "   'number': 2,\n",
       "   'power': 2925.0}},\n",
       " {'factories_total': {'ice': 0,\n",
       "   'ore': 0,\n",
       "   'water': 230,\n",
       "   'metal': 100,\n",
       "   'number': 2,\n",
       "   'power': 3040.0}},\n",
       " {'factories_total': {'ice': 0,\n",
       "   'ore': 0,\n",
       "   'water': 226,\n",
       "   'metal': 100,\n",
       "   'number': 2,\n",
       "   'power': 3155.0}},\n",
       " {'factories_total': {'ice': 0,\n",
       "   'ore': 0,\n",
       "   'water': 222,\n",
       "   'metal': 100,\n",
       "   'number': 2,\n",
       "   'power': 3270.0}},\n",
       " {'factories_total': {'ice': 0,\n",
       "   'ore': 0,\n",
       "   'water': 218,\n",
       "   'metal': 100,\n",
       "   'number': 2,\n",
       "   'power': 3385.0}},\n",
       " {'factories_total': {'ice': 0,\n",
       "   'ore': 0,\n",
       "   'water': 212,\n",
       "   'metal': 100,\n",
       "   'number': 2,\n",
       "   'power': 3500.0}},\n",
       " {'factories_total': {'ice': 0,\n",
       "   'ore': 0,\n",
       "   'water': 206,\n",
       "   'metal': 100,\n",
       "   'number': 2,\n",
       "   'power': 3633.0}},\n",
       " {'factories_total': {'ice': 0,\n",
       "   'ore': 0,\n",
       "   'water': 200,\n",
       "   'metal': 100,\n",
       "   'number': 2,\n",
       "   'power': 3766.0}}]"
      ]
     },
     "execution_count": 11,
     "metadata": {},
     "output_type": "execute_result"
    }
   ],
   "source": [
    "agents['player_1'].stats"
   ]
  },
  {
   "cell_type": "code",
   "execution_count": null,
   "metadata": {},
   "outputs": [],
   "source": []
  }
 ],
 "metadata": {
  "kernelspec": {
   "display_name": "lux310",
   "language": "python",
   "name": "lux310"
  },
  "language_info": {
   "codemirror_mode": {
    "name": "ipython",
    "version": 3
   },
   "file_extension": ".py",
   "mimetype": "text/x-python",
   "name": "python",
   "nbconvert_exporter": "python",
   "pygments_lexer": "ipython3",
   "version": "3.10.9"
  },
  "vscode": {
   "interpreter": {
    "hash": "95c78092eaa97395644b547c35f355f36ca9b4a25bd2b7641e327063759a9b57"
   }
  }
 },
 "nbformat": 4,
 "nbformat_minor": 4
}
