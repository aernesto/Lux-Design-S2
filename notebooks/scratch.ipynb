{
 "cells": [
  {
   "cell_type": "code",
   "execution_count": 1,
   "metadata": {},
   "outputs": [],
   "source": [
    "from luxai_s2.env import LuxAI_S2"
   ]
  },
  {
   "cell_type": "code",
   "execution_count": 2,
   "metadata": {},
   "outputs": [],
   "source": [
    "env = LuxAI_S2()"
   ]
  },
  {
   "cell_type": "code",
   "execution_count": 3,
   "metadata": {},
   "outputs": [
    {
     "data": {
      "text/plain": [
       "{'player_0': {'units': {'player_0': {}, 'player_1': {}},\n",
       "  'teams': {},\n",
       "  'factories': {'player_0': {}, 'player_1': {}},\n",
       "  'board': {'rubble': array([[  0,   0,   0, ...,  73,  79,  83],\n",
       "          [  0,   0,   0, ...,  73,  80,  86],\n",
       "          [  0,   0,   0, ...,  72,  81, 100],\n",
       "          ...,\n",
       "          [  0,   0,   0, ...,   0,   0,   0],\n",
       "          [  0,   0,   0, ...,   0,   0,   0],\n",
       "          [  0,   0,   0, ...,   0,   0,   0]]),\n",
       "   'ore': array([[0, 0, 0, ..., 0, 0, 0],\n",
       "          [0, 0, 0, ..., 0, 0, 0],\n",
       "          [0, 0, 0, ..., 0, 0, 0],\n",
       "          ...,\n",
       "          [0, 0, 0, ..., 0, 0, 0],\n",
       "          [0, 0, 0, ..., 0, 0, 0],\n",
       "          [0, 0, 0, ..., 0, 0, 0]]),\n",
       "   'ice': array([[0, 0, 0, ..., 1, 1, 1],\n",
       "          [0, 0, 0, ..., 1, 1, 1],\n",
       "          [0, 0, 0, ..., 0, 1, 0],\n",
       "          ...,\n",
       "          [0, 0, 0, ..., 0, 0, 0],\n",
       "          [0, 0, 0, ..., 0, 0, 0],\n",
       "          [0, 0, 0, ..., 0, 0, 0]]),\n",
       "   'lichen': array([[0, 0, 0, ..., 0, 0, 0],\n",
       "          [0, 0, 0, ..., 0, 0, 0],\n",
       "          [0, 0, 0, ..., 0, 0, 0],\n",
       "          ...,\n",
       "          [0, 0, 0, ..., 0, 0, 0],\n",
       "          [0, 0, 0, ..., 0, 0, 0],\n",
       "          [0, 0, 0, ..., 0, 0, 0]]),\n",
       "   'lichen_strains': array([[-1, -1, -1, ..., -1, -1, -1],\n",
       "          [-1, -1, -1, ..., -1, -1, -1],\n",
       "          [-1, -1, -1, ..., -1, -1, -1],\n",
       "          ...,\n",
       "          [-1, -1, -1, ..., -1, -1, -1],\n",
       "          [-1, -1, -1, ..., -1, -1, -1],\n",
       "          [-1, -1, -1, ..., -1, -1, -1]]),\n",
       "   'valid_spawns_mask': array([[False, False, False, ..., False, False, False],\n",
       "          [False,  True,  True, ..., False, False, False],\n",
       "          [False,  True,  True, ..., False, False, False],\n",
       "          ...,\n",
       "          [False,  True,  True, ...,  True,  True, False],\n",
       "          [False,  True,  True, ...,  True,  True, False],\n",
       "          [False, False, False, ..., False, False, False]]),\n",
       "   'factories_per_team': 3},\n",
       "  'real_env_steps': -7,\n",
       "  'global_id': 0},\n",
       " 'player_1': {'units': {'player_0': {}, 'player_1': {}},\n",
       "  'teams': {},\n",
       "  'factories': {'player_0': {}, 'player_1': {}},\n",
       "  'board': {'rubble': array([[  0,   0,   0, ...,  73,  79,  83],\n",
       "          [  0,   0,   0, ...,  73,  80,  86],\n",
       "          [  0,   0,   0, ...,  72,  81, 100],\n",
       "          ...,\n",
       "          [  0,   0,   0, ...,   0,   0,   0],\n",
       "          [  0,   0,   0, ...,   0,   0,   0],\n",
       "          [  0,   0,   0, ...,   0,   0,   0]]),\n",
       "   'ore': array([[0, 0, 0, ..., 0, 0, 0],\n",
       "          [0, 0, 0, ..., 0, 0, 0],\n",
       "          [0, 0, 0, ..., 0, 0, 0],\n",
       "          ...,\n",
       "          [0, 0, 0, ..., 0, 0, 0],\n",
       "          [0, 0, 0, ..., 0, 0, 0],\n",
       "          [0, 0, 0, ..., 0, 0, 0]]),\n",
       "   'ice': array([[0, 0, 0, ..., 1, 1, 1],\n",
       "          [0, 0, 0, ..., 1, 1, 1],\n",
       "          [0, 0, 0, ..., 0, 1, 0],\n",
       "          ...,\n",
       "          [0, 0, 0, ..., 0, 0, 0],\n",
       "          [0, 0, 0, ..., 0, 0, 0],\n",
       "          [0, 0, 0, ..., 0, 0, 0]]),\n",
       "   'lichen': array([[0, 0, 0, ..., 0, 0, 0],\n",
       "          [0, 0, 0, ..., 0, 0, 0],\n",
       "          [0, 0, 0, ..., 0, 0, 0],\n",
       "          ...,\n",
       "          [0, 0, 0, ..., 0, 0, 0],\n",
       "          [0, 0, 0, ..., 0, 0, 0],\n",
       "          [0, 0, 0, ..., 0, 0, 0]]),\n",
       "   'lichen_strains': array([[-1, -1, -1, ..., -1, -1, -1],\n",
       "          [-1, -1, -1, ..., -1, -1, -1],\n",
       "          [-1, -1, -1, ..., -1, -1, -1],\n",
       "          ...,\n",
       "          [-1, -1, -1, ..., -1, -1, -1],\n",
       "          [-1, -1, -1, ..., -1, -1, -1],\n",
       "          [-1, -1, -1, ..., -1, -1, -1]]),\n",
       "   'valid_spawns_mask': array([[False, False, False, ..., False, False, False],\n",
       "          [False,  True,  True, ..., False, False, False],\n",
       "          [False,  True,  True, ..., False, False, False],\n",
       "          ...,\n",
       "          [False,  True,  True, ...,  True,  True, False],\n",
       "          [False,  True,  True, ...,  True,  True, False],\n",
       "          [False, False, False, ..., False, False, False]]),\n",
       "   'factories_per_team': 3},\n",
       "  'real_env_steps': -7,\n",
       "  'global_id': 0}}"
      ]
     },
     "execution_count": 3,
     "metadata": {},
     "output_type": "execute_result"
    }
   ],
   "source": [
    "env.reset(306725864)  # reproducing a map from the leaderboard"
   ]
  },
  {
   "cell_type": "code",
   "execution_count": 4,
   "metadata": {},
   "outputs": [],
   "source": [
    "import matplotlib.pyplot as plt"
   ]
  },
  {
   "cell_type": "code",
   "execution_count": 5,
   "metadata": {},
   "outputs": [
    {
     "data": {
      "image/png": "[encoded data removed]",
      "text/plain": [
       "<Figure size 700x700 with 1 Axes>"
      ]
     },
     "metadata": {},
     "output_type": "display_data"
    }
   ],
   "source": [
    "img = env.render(\"rgb_array\", width=640, height=640)\n",
    "f, ax = plt.subplots(figsize=(7, 7))\n",
    "ax.imshow(img);"
   ]
  },
  {
   "cell_type": "code",
   "execution_count": 6,
   "metadata": {},
   "outputs": [
    {
     "name": "stdout",
     "output_type": "stream",
     "text": [
      "Help on method render in module luxai_s2.env:\n",
      "\n",
      "render(mode='human', **kwargs) method of luxai_s2.env.LuxAI_S2 instance\n",
      "    Renders the environment. In human mode, it can print to terminal, open\n",
      "    up a graphical window, or open up some other display that a human can see and understand.\n",
      "\n"
     ]
    }
   ],
   "source": [
    "help(env.render)"
   ]
  },
  {
   "cell_type": "code",
   "execution_count": null,
   "metadata": {},
   "outputs": [],
   "source": []
  }
 ],
 "metadata": {
  "kernelspec": {
   "display_name": "lux310",
   "language": "python",
   "name": "lux310"
  },
  "language_info": {
   "codemirror_mode": {
    "name": "ipython",
    "version": 3
   },
   "file_extension": ".py",
   "mimetype": "text/x-python",
   "name": "python",
   "nbconvert_exporter": "python",
   "pygments_lexer": "ipython3",
   "version": "3.10.9"
  }
 },
 "nbformat": 4,
 "nbformat_minor": 4
}
